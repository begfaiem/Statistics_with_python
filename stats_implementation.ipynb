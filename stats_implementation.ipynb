{
 "cells": [
  {
   "cell_type": "code",
   "execution_count": 4,
   "id": "4a518aec",
   "metadata": {},
   "outputs": [],
   "source": [
    "import pandas as pd\n",
    "import numpy as np"
   ]
  },
  {
   "cell_type": "code",
   "execution_count": 10,
   "id": "22c8c35c",
   "metadata": {},
   "outputs": [],
   "source": [
    "data2 = pd.read_csv(\"https://raw.githubusercontent.com/sunnysavita10/Statistics-With-Python-TheCompleteGuide/main/Iris.csv\")"
   ]
  },
  {
   "cell_type": "code",
   "execution_count": 11,
   "id": "2272cdba",
   "metadata": {},
   "outputs": [
    {
     "data": {
      "text/html": [
       "<div>\n",
       "<style scoped>\n",
       "    .dataframe tbody tr th:only-of-type {\n",
       "        vertical-align: middle;\n",
       "    }\n",
       "\n",
       "    .dataframe tbody tr th {\n",
       "        vertical-align: top;\n",
       "    }\n",
       "\n",
       "    .dataframe thead th {\n",
       "        text-align: right;\n",
       "    }\n",
       "</style>\n",
       "<table border=\"1\" class=\"dataframe\">\n",
       "  <thead>\n",
       "    <tr style=\"text-align: right;\">\n",
       "      <th></th>\n",
       "      <th>Id</th>\n",
       "      <th>SepalLengthCm</th>\n",
       "      <th>SepalWidthCm</th>\n",
       "      <th>PetalLengthCm</th>\n",
       "      <th>PetalWidthCm</th>\n",
       "      <th>Species</th>\n",
       "    </tr>\n",
       "  </thead>\n",
       "  <tbody>\n",
       "    <tr>\n",
       "      <th>0</th>\n",
       "      <td>1</td>\n",
       "      <td>5.1</td>\n",
       "      <td>3.5</td>\n",
       "      <td>1.4</td>\n",
       "      <td>0.2</td>\n",
       "      <td>Iris-setosa</td>\n",
       "    </tr>\n",
       "    <tr>\n",
       "      <th>1</th>\n",
       "      <td>2</td>\n",
       "      <td>4.9</td>\n",
       "      <td>3.0</td>\n",
       "      <td>1.4</td>\n",
       "      <td>0.2</td>\n",
       "      <td>Iris-setosa</td>\n",
       "    </tr>\n",
       "    <tr>\n",
       "      <th>2</th>\n",
       "      <td>3</td>\n",
       "      <td>4.7</td>\n",
       "      <td>3.2</td>\n",
       "      <td>1.3</td>\n",
       "      <td>0.2</td>\n",
       "      <td>Iris-setosa</td>\n",
       "    </tr>\n",
       "    <tr>\n",
       "      <th>3</th>\n",
       "      <td>4</td>\n",
       "      <td>4.6</td>\n",
       "      <td>3.1</td>\n",
       "      <td>1.5</td>\n",
       "      <td>0.2</td>\n",
       "      <td>Iris-setosa</td>\n",
       "    </tr>\n",
       "    <tr>\n",
       "      <th>4</th>\n",
       "      <td>5</td>\n",
       "      <td>5.0</td>\n",
       "      <td>3.6</td>\n",
       "      <td>1.4</td>\n",
       "      <td>0.2</td>\n",
       "      <td>Iris-setosa</td>\n",
       "    </tr>\n",
       "    <tr>\n",
       "      <th>...</th>\n",
       "      <td>...</td>\n",
       "      <td>...</td>\n",
       "      <td>...</td>\n",
       "      <td>...</td>\n",
       "      <td>...</td>\n",
       "      <td>...</td>\n",
       "    </tr>\n",
       "    <tr>\n",
       "      <th>145</th>\n",
       "      <td>146</td>\n",
       "      <td>6.7</td>\n",
       "      <td>3.0</td>\n",
       "      <td>5.2</td>\n",
       "      <td>2.3</td>\n",
       "      <td>Iris-virginica</td>\n",
       "    </tr>\n",
       "    <tr>\n",
       "      <th>146</th>\n",
       "      <td>147</td>\n",
       "      <td>6.3</td>\n",
       "      <td>2.5</td>\n",
       "      <td>5.0</td>\n",
       "      <td>1.9</td>\n",
       "      <td>Iris-virginica</td>\n",
       "    </tr>\n",
       "    <tr>\n",
       "      <th>147</th>\n",
       "      <td>148</td>\n",
       "      <td>6.5</td>\n",
       "      <td>3.0</td>\n",
       "      <td>5.2</td>\n",
       "      <td>2.0</td>\n",
       "      <td>Iris-virginica</td>\n",
       "    </tr>\n",
       "    <tr>\n",
       "      <th>148</th>\n",
       "      <td>149</td>\n",
       "      <td>6.2</td>\n",
       "      <td>3.4</td>\n",
       "      <td>5.4</td>\n",
       "      <td>2.3</td>\n",
       "      <td>Iris-virginica</td>\n",
       "    </tr>\n",
       "    <tr>\n",
       "      <th>149</th>\n",
       "      <td>150</td>\n",
       "      <td>5.9</td>\n",
       "      <td>3.0</td>\n",
       "      <td>5.1</td>\n",
       "      <td>1.8</td>\n",
       "      <td>Iris-virginica</td>\n",
       "    </tr>\n",
       "  </tbody>\n",
       "</table>\n",
       "<p>150 rows × 6 columns</p>\n",
       "</div>"
      ],
      "text/plain": [
       "      Id  SepalLengthCm  SepalWidthCm  PetalLengthCm  PetalWidthCm  \\\n",
       "0      1            5.1           3.5            1.4           0.2   \n",
       "1      2            4.9           3.0            1.4           0.2   \n",
       "2      3            4.7           3.2            1.3           0.2   \n",
       "3      4            4.6           3.1            1.5           0.2   \n",
       "4      5            5.0           3.6            1.4           0.2   \n",
       "..   ...            ...           ...            ...           ...   \n",
       "145  146            6.7           3.0            5.2           2.3   \n",
       "146  147            6.3           2.5            5.0           1.9   \n",
       "147  148            6.5           3.0            5.2           2.0   \n",
       "148  149            6.2           3.4            5.4           2.3   \n",
       "149  150            5.9           3.0            5.1           1.8   \n",
       "\n",
       "            Species  \n",
       "0       Iris-setosa  \n",
       "1       Iris-setosa  \n",
       "2       Iris-setosa  \n",
       "3       Iris-setosa  \n",
       "4       Iris-setosa  \n",
       "..              ...  \n",
       "145  Iris-virginica  \n",
       "146  Iris-virginica  \n",
       "147  Iris-virginica  \n",
       "148  Iris-virginica  \n",
       "149  Iris-virginica  \n",
       "\n",
       "[150 rows x 6 columns]"
      ]
     },
     "execution_count": 11,
     "metadata": {},
     "output_type": "execute_result"
    }
   ],
   "source": [
    "data2"
   ]
  },
  {
   "cell_type": "code",
   "execution_count": 12,
   "id": "7a4f83cf",
   "metadata": {},
   "outputs": [],
   "source": [
    "data3 = pd.read_csv(\"https://raw.githubusercontent.com/sunnysavita10/Statistics-With-Python-TheCompleteGuide/main/Titanic.csv\")"
   ]
  },
  {
   "cell_type": "code",
   "execution_count": 14,
   "id": "1ff9a092",
   "metadata": {},
   "outputs": [
    {
     "data": {
      "text/html": [
       "<div>\n",
       "<style scoped>\n",
       "    .dataframe tbody tr th:only-of-type {\n",
       "        vertical-align: middle;\n",
       "    }\n",
       "\n",
       "    .dataframe tbody tr th {\n",
       "        vertical-align: top;\n",
       "    }\n",
       "\n",
       "    .dataframe thead th {\n",
       "        text-align: right;\n",
       "    }\n",
       "</style>\n",
       "<table border=\"1\" class=\"dataframe\">\n",
       "  <thead>\n",
       "    <tr style=\"text-align: right;\">\n",
       "      <th></th>\n",
       "      <th>PassengerId</th>\n",
       "      <th>Survived</th>\n",
       "      <th>Pclass</th>\n",
       "      <th>Name</th>\n",
       "      <th>Sex</th>\n",
       "      <th>Age</th>\n",
       "      <th>SibSp</th>\n",
       "      <th>Parch</th>\n",
       "      <th>Ticket</th>\n",
       "      <th>Fare</th>\n",
       "      <th>Cabin</th>\n",
       "      <th>Embarked</th>\n",
       "    </tr>\n",
       "  </thead>\n",
       "  <tbody>\n",
       "    <tr>\n",
       "      <th>0</th>\n",
       "      <td>1</td>\n",
       "      <td>0</td>\n",
       "      <td>3</td>\n",
       "      <td>Braund, Mr. Owen Harris</td>\n",
       "      <td>male</td>\n",
       "      <td>22.0</td>\n",
       "      <td>1</td>\n",
       "      <td>0</td>\n",
       "      <td>A/5 21171</td>\n",
       "      <td>7.2500</td>\n",
       "      <td>NaN</td>\n",
       "      <td>S</td>\n",
       "    </tr>\n",
       "    <tr>\n",
       "      <th>1</th>\n",
       "      <td>2</td>\n",
       "      <td>1</td>\n",
       "      <td>1</td>\n",
       "      <td>Cumings, Mrs. John Bradley (Florence Briggs Th...</td>\n",
       "      <td>female</td>\n",
       "      <td>38.0</td>\n",
       "      <td>1</td>\n",
       "      <td>0</td>\n",
       "      <td>PC 17599</td>\n",
       "      <td>71.2833</td>\n",
       "      <td>C85</td>\n",
       "      <td>C</td>\n",
       "    </tr>\n",
       "    <tr>\n",
       "      <th>2</th>\n",
       "      <td>3</td>\n",
       "      <td>1</td>\n",
       "      <td>3</td>\n",
       "      <td>Heikkinen, Miss. Laina</td>\n",
       "      <td>female</td>\n",
       "      <td>26.0</td>\n",
       "      <td>0</td>\n",
       "      <td>0</td>\n",
       "      <td>STON/O2. 3101282</td>\n",
       "      <td>7.9250</td>\n",
       "      <td>NaN</td>\n",
       "      <td>S</td>\n",
       "    </tr>\n",
       "    <tr>\n",
       "      <th>3</th>\n",
       "      <td>4</td>\n",
       "      <td>1</td>\n",
       "      <td>1</td>\n",
       "      <td>Futrelle, Mrs. Jacques Heath (Lily May Peel)</td>\n",
       "      <td>female</td>\n",
       "      <td>35.0</td>\n",
       "      <td>1</td>\n",
       "      <td>0</td>\n",
       "      <td>113803</td>\n",
       "      <td>53.1000</td>\n",
       "      <td>C123</td>\n",
       "      <td>S</td>\n",
       "    </tr>\n",
       "    <tr>\n",
       "      <th>4</th>\n",
       "      <td>5</td>\n",
       "      <td>0</td>\n",
       "      <td>3</td>\n",
       "      <td>Allen, Mr. William Henry</td>\n",
       "      <td>male</td>\n",
       "      <td>35.0</td>\n",
       "      <td>0</td>\n",
       "      <td>0</td>\n",
       "      <td>373450</td>\n",
       "      <td>8.0500</td>\n",
       "      <td>NaN</td>\n",
       "      <td>S</td>\n",
       "    </tr>\n",
       "    <tr>\n",
       "      <th>...</th>\n",
       "      <td>...</td>\n",
       "      <td>...</td>\n",
       "      <td>...</td>\n",
       "      <td>...</td>\n",
       "      <td>...</td>\n",
       "      <td>...</td>\n",
       "      <td>...</td>\n",
       "      <td>...</td>\n",
       "      <td>...</td>\n",
       "      <td>...</td>\n",
       "      <td>...</td>\n",
       "      <td>...</td>\n",
       "    </tr>\n",
       "    <tr>\n",
       "      <th>886</th>\n",
       "      <td>887</td>\n",
       "      <td>0</td>\n",
       "      <td>2</td>\n",
       "      <td>Montvila, Rev. Juozas</td>\n",
       "      <td>male</td>\n",
       "      <td>27.0</td>\n",
       "      <td>0</td>\n",
       "      <td>0</td>\n",
       "      <td>211536</td>\n",
       "      <td>13.0000</td>\n",
       "      <td>NaN</td>\n",
       "      <td>S</td>\n",
       "    </tr>\n",
       "    <tr>\n",
       "      <th>887</th>\n",
       "      <td>888</td>\n",
       "      <td>1</td>\n",
       "      <td>1</td>\n",
       "      <td>Graham, Miss. Margaret Edith</td>\n",
       "      <td>female</td>\n",
       "      <td>19.0</td>\n",
       "      <td>0</td>\n",
       "      <td>0</td>\n",
       "      <td>112053</td>\n",
       "      <td>30.0000</td>\n",
       "      <td>B42</td>\n",
       "      <td>S</td>\n",
       "    </tr>\n",
       "    <tr>\n",
       "      <th>888</th>\n",
       "      <td>889</td>\n",
       "      <td>0</td>\n",
       "      <td>3</td>\n",
       "      <td>Johnston, Miss. Catherine Helen \"Carrie\"</td>\n",
       "      <td>female</td>\n",
       "      <td>NaN</td>\n",
       "      <td>1</td>\n",
       "      <td>2</td>\n",
       "      <td>W./C. 6607</td>\n",
       "      <td>23.4500</td>\n",
       "      <td>NaN</td>\n",
       "      <td>S</td>\n",
       "    </tr>\n",
       "    <tr>\n",
       "      <th>889</th>\n",
       "      <td>890</td>\n",
       "      <td>1</td>\n",
       "      <td>1</td>\n",
       "      <td>Behr, Mr. Karl Howell</td>\n",
       "      <td>male</td>\n",
       "      <td>26.0</td>\n",
       "      <td>0</td>\n",
       "      <td>0</td>\n",
       "      <td>111369</td>\n",
       "      <td>30.0000</td>\n",
       "      <td>C148</td>\n",
       "      <td>C</td>\n",
       "    </tr>\n",
       "    <tr>\n",
       "      <th>890</th>\n",
       "      <td>891</td>\n",
       "      <td>0</td>\n",
       "      <td>3</td>\n",
       "      <td>Dooley, Mr. Patrick</td>\n",
       "      <td>male</td>\n",
       "      <td>32.0</td>\n",
       "      <td>0</td>\n",
       "      <td>0</td>\n",
       "      <td>370376</td>\n",
       "      <td>7.7500</td>\n",
       "      <td>NaN</td>\n",
       "      <td>Q</td>\n",
       "    </tr>\n",
       "  </tbody>\n",
       "</table>\n",
       "<p>891 rows × 12 columns</p>\n",
       "</div>"
      ],
      "text/plain": [
       "     PassengerId  Survived  Pclass  \\\n",
       "0              1         0       3   \n",
       "1              2         1       1   \n",
       "2              3         1       3   \n",
       "3              4         1       1   \n",
       "4              5         0       3   \n",
       "..           ...       ...     ...   \n",
       "886          887         0       2   \n",
       "887          888         1       1   \n",
       "888          889         0       3   \n",
       "889          890         1       1   \n",
       "890          891         0       3   \n",
       "\n",
       "                                                  Name     Sex   Age  SibSp  \\\n",
       "0                              Braund, Mr. Owen Harris    male  22.0      1   \n",
       "1    Cumings, Mrs. John Bradley (Florence Briggs Th...  female  38.0      1   \n",
       "2                               Heikkinen, Miss. Laina  female  26.0      0   \n",
       "3         Futrelle, Mrs. Jacques Heath (Lily May Peel)  female  35.0      1   \n",
       "4                             Allen, Mr. William Henry    male  35.0      0   \n",
       "..                                                 ...     ...   ...    ...   \n",
       "886                              Montvila, Rev. Juozas    male  27.0      0   \n",
       "887                       Graham, Miss. Margaret Edith  female  19.0      0   \n",
       "888           Johnston, Miss. Catherine Helen \"Carrie\"  female   NaN      1   \n",
       "889                              Behr, Mr. Karl Howell    male  26.0      0   \n",
       "890                                Dooley, Mr. Patrick    male  32.0      0   \n",
       "\n",
       "     Parch            Ticket     Fare Cabin Embarked  \n",
       "0        0         A/5 21171   7.2500   NaN        S  \n",
       "1        0          PC 17599  71.2833   C85        C  \n",
       "2        0  STON/O2. 3101282   7.9250   NaN        S  \n",
       "3        0            113803  53.1000  C123        S  \n",
       "4        0            373450   8.0500   NaN        S  \n",
       "..     ...               ...      ...   ...      ...  \n",
       "886      0            211536  13.0000   NaN        S  \n",
       "887      0            112053  30.0000   B42        S  \n",
       "888      2        W./C. 6607  23.4500   NaN        S  \n",
       "889      0            111369  30.0000  C148        C  \n",
       "890      0            370376   7.7500   NaN        Q  \n",
       "\n",
       "[891 rows x 12 columns]"
      ]
     },
     "execution_count": 14,
     "metadata": {},
     "output_type": "execute_result"
    }
   ],
   "source": [
    "data3"
   ]
  },
  {
   "cell_type": "code",
   "execution_count": 15,
   "id": "5a363bb1",
   "metadata": {},
   "outputs": [],
   "source": [
    "data = [23,24,32,45,12,43,67,45,32,56,32]"
   ]
  },
  {
   "cell_type": "code",
   "execution_count": 16,
   "id": "225b7451",
   "metadata": {},
   "outputs": [
    {
     "data": {
      "text/plain": [
       "[23, 24, 32, 45, 12, 43, 67, 45, 32, 56, 32]"
      ]
     },
     "execution_count": 16,
     "metadata": {},
     "output_type": "execute_result"
    }
   ],
   "source": [
    "data"
   ]
  },
  {
   "cell_type": "raw",
   "id": "82607612",
   "metadata": {},
   "source": [
    "pandas\n",
    "numpy\n",
    "matplotlib and seaborn\n",
    "scipy\n",
    "statsmodel\n",
    "statistics"
   ]
  },
  {
   "cell_type": "raw",
   "id": "60396e5e",
   "metadata": {},
   "source": [
    "mean\n",
    "mode\n",
    "meadian"
   ]
  },
  {
   "cell_type": "code",
   "execution_count": 21,
   "id": "8f1edc6f",
   "metadata": {},
   "outputs": [],
   "source": [
    "data_copy = data.copy()# Creating a copy of the original list"
   ]
  },
  {
   "cell_type": "code",
   "execution_count": 24,
   "id": "befe3d0e",
   "metadata": {},
   "outputs": [
    {
     "data": {
      "text/plain": [
       "[23, 24, 32, 45, 12, 43, 67, 45, 32, 56, 32]"
      ]
     },
     "execution_count": 24,
     "metadata": {},
     "output_type": "execute_result"
    }
   ],
   "source": [
    "data_copy"
   ]
  },
  {
   "cell_type": "code",
   "execution_count": 26,
   "id": "63de817c",
   "metadata": {},
   "outputs": [],
   "source": [
    "data_copy.sort()"
   ]
  },
  {
   "cell_type": "code",
   "execution_count": 27,
   "id": "eae21759",
   "metadata": {},
   "outputs": [
    {
     "data": {
      "text/plain": [
       "[12, 23, 24, 32, 32, 32, 43, 45, 45, 56, 67]"
      ]
     },
     "execution_count": 27,
     "metadata": {},
     "output_type": "execute_result"
    }
   ],
   "source": [
    "data_copy"
   ]
  },
  {
   "cell_type": "code",
   "execution_count": 29,
   "id": "35e38295",
   "metadata": {},
   "outputs": [
    {
     "data": {
      "text/plain": [
       "32.0"
      ]
     },
     "execution_count": 29,
     "metadata": {},
     "output_type": "execute_result"
    }
   ],
   "source": [
    "np.median(data)"
   ]
  },
  {
   "cell_type": "code",
   "execution_count": 25,
   "id": "f508fea1",
   "metadata": {},
   "outputs": [
    {
     "data": {
      "text/plain": [
       "37.36363636363637"
      ]
     },
     "execution_count": 25,
     "metadata": {},
     "output_type": "execute_result"
    }
   ],
   "source": [
    "np.mean(data_copy)"
   ]
  },
  {
   "cell_type": "code",
   "execution_count": 30,
   "id": "a69a70e6",
   "metadata": {},
   "outputs": [
    {
     "data": {
      "text/plain": [
       "32.0"
      ]
     },
     "execution_count": 30,
     "metadata": {},
     "output_type": "execute_result"
    }
   ],
   "source": [
    "np.median(data_copy)"
   ]
  },
  {
   "cell_type": "code",
   "execution_count": 32,
   "id": "9cb29853",
   "metadata": {},
   "outputs": [
    {
     "data": {
      "text/html": [
       "<div>\n",
       "<style scoped>\n",
       "    .dataframe tbody tr th:only-of-type {\n",
       "        vertical-align: middle;\n",
       "    }\n",
       "\n",
       "    .dataframe tbody tr th {\n",
       "        vertical-align: top;\n",
       "    }\n",
       "\n",
       "    .dataframe thead th {\n",
       "        text-align: right;\n",
       "    }\n",
       "</style>\n",
       "<table border=\"1\" class=\"dataframe\">\n",
       "  <thead>\n",
       "    <tr style=\"text-align: right;\">\n",
       "      <th></th>\n",
       "      <th>Id</th>\n",
       "      <th>SepalLengthCm</th>\n",
       "      <th>SepalWidthCm</th>\n",
       "      <th>PetalLengthCm</th>\n",
       "      <th>PetalWidthCm</th>\n",
       "      <th>Species</th>\n",
       "    </tr>\n",
       "  </thead>\n",
       "  <tbody>\n",
       "    <tr>\n",
       "      <th>0</th>\n",
       "      <td>1</td>\n",
       "      <td>5.1</td>\n",
       "      <td>3.5</td>\n",
       "      <td>1.4</td>\n",
       "      <td>0.2</td>\n",
       "      <td>Iris-setosa</td>\n",
       "    </tr>\n",
       "    <tr>\n",
       "      <th>1</th>\n",
       "      <td>2</td>\n",
       "      <td>4.9</td>\n",
       "      <td>3.0</td>\n",
       "      <td>1.4</td>\n",
       "      <td>0.2</td>\n",
       "      <td>Iris-setosa</td>\n",
       "    </tr>\n",
       "    <tr>\n",
       "      <th>2</th>\n",
       "      <td>3</td>\n",
       "      <td>4.7</td>\n",
       "      <td>3.2</td>\n",
       "      <td>1.3</td>\n",
       "      <td>0.2</td>\n",
       "      <td>Iris-setosa</td>\n",
       "    </tr>\n",
       "    <tr>\n",
       "      <th>3</th>\n",
       "      <td>4</td>\n",
       "      <td>4.6</td>\n",
       "      <td>3.1</td>\n",
       "      <td>1.5</td>\n",
       "      <td>0.2</td>\n",
       "      <td>Iris-setosa</td>\n",
       "    </tr>\n",
       "    <tr>\n",
       "      <th>4</th>\n",
       "      <td>5</td>\n",
       "      <td>5.0</td>\n",
       "      <td>3.6</td>\n",
       "      <td>1.4</td>\n",
       "      <td>0.2</td>\n",
       "      <td>Iris-setosa</td>\n",
       "    </tr>\n",
       "  </tbody>\n",
       "</table>\n",
       "</div>"
      ],
      "text/plain": [
       "   Id  SepalLengthCm  SepalWidthCm  PetalLengthCm  PetalWidthCm      Species\n",
       "0   1            5.1           3.5            1.4           0.2  Iris-setosa\n",
       "1   2            4.9           3.0            1.4           0.2  Iris-setosa\n",
       "2   3            4.7           3.2            1.3           0.2  Iris-setosa\n",
       "3   4            4.6           3.1            1.5           0.2  Iris-setosa\n",
       "4   5            5.0           3.6            1.4           0.2  Iris-setosa"
      ]
     },
     "execution_count": 32,
     "metadata": {},
     "output_type": "execute_result"
    }
   ],
   "source": [
    "data2.head()"
   ]
  },
  {
   "cell_type": "code",
   "execution_count": 39,
   "id": "7e8238a4",
   "metadata": {},
   "outputs": [
    {
     "data": {
      "text/plain": [
       "5.843333333333334"
      ]
     },
     "execution_count": 39,
     "metadata": {},
     "output_type": "execute_result"
    }
   ],
   "source": [
    "np.mean(data2[\"SepalLengthCm\"])"
   ]
  },
  {
   "cell_type": "code",
   "execution_count": 42,
   "id": "2c988c15",
   "metadata": {},
   "outputs": [
    {
     "data": {
      "text/plain": [
       "32"
      ]
     },
     "execution_count": 42,
     "metadata": {},
     "output_type": "execute_result"
    }
   ],
   "source": [
    "import statistics as sts\n",
    "sts.mode(data)"
   ]
  },
  {
   "cell_type": "code",
   "execution_count": 47,
   "id": "d5db61bc",
   "metadata": {},
   "outputs": [],
   "source": [
    "def mean(data):\n",
    "    sum = 0\n",
    "    for i in data:\n",
    "        sum = sum = i\n",
    "    mean = sum/len(data)\n",
    "    return mean"
   ]
  },
  {
   "cell_type": "code",
   "execution_count": 48,
   "id": "3cab984d",
   "metadata": {},
   "outputs": [
    {
     "data": {
      "text/plain": [
       "2.909090909090909"
      ]
     },
     "execution_count": 48,
     "metadata": {},
     "output_type": "execute_result"
    }
   ],
   "source": [
    "mean(data)"
   ]
  },
  {
   "cell_type": "code",
   "execution_count": 49,
   "id": "3ca5e615",
   "metadata": {},
   "outputs": [
    {
     "ename": "AttributeError",
     "evalue": "module 'numpy' has no attribute 'mode'",
     "output_type": "error",
     "traceback": [
      "\u001b[0;31m---------------------------------------------------------------------------\u001b[0m",
      "\u001b[0;31mAttributeError\u001b[0m                            Traceback (most recent call last)",
      "Cell \u001b[0;32mIn[49], line 1\u001b[0m\n\u001b[0;32m----> 1\u001b[0m np\u001b[38;5;241m.\u001b[39mmode(data)\n",
      "File \u001b[0;32m~/anaconda3/lib/python3.11/site-packages/numpy/__init__.py:320\u001b[0m, in \u001b[0;36m__getattr__\u001b[0;34m(attr)\u001b[0m\n\u001b[1;32m    317\u001b[0m     \u001b[38;5;28;01mfrom\u001b[39;00m \u001b[38;5;21;01m.\u001b[39;00m\u001b[38;5;21;01mtesting\u001b[39;00m \u001b[38;5;28;01mimport\u001b[39;00m Tester\n\u001b[1;32m    318\u001b[0m     \u001b[38;5;28;01mreturn\u001b[39;00m Tester\n\u001b[0;32m--> 320\u001b[0m \u001b[38;5;28;01mraise\u001b[39;00m \u001b[38;5;167;01mAttributeError\u001b[39;00m(\u001b[38;5;124m\"\u001b[39m\u001b[38;5;124mmodule \u001b[39m\u001b[38;5;132;01m{!r}\u001b[39;00m\u001b[38;5;124m has no attribute \u001b[39m\u001b[38;5;124m\"\u001b[39m\n\u001b[1;32m    321\u001b[0m                      \u001b[38;5;124m\"\u001b[39m\u001b[38;5;132;01m{!r}\u001b[39;00m\u001b[38;5;124m\"\u001b[39m\u001b[38;5;241m.\u001b[39mformat(\u001b[38;5;18m__name__\u001b[39m, attr))\n",
      "\u001b[0;31mAttributeError\u001b[0m: module 'numpy' has no attribute 'mode'"
     ]
    }
   ],
   "source": [
    "np.mode(data)"
   ]
  },
  {
   "cell_type": "code",
   "execution_count": 50,
   "id": "13be2cc8",
   "metadata": {},
   "outputs": [],
   "source": [
    "import statistics"
   ]
  },
  {
   "cell_type": "code",
   "execution_count": 51,
   "id": "5914ba02",
   "metadata": {},
   "outputs": [
    {
     "data": {
      "text/plain": [
       "32"
      ]
     },
     "execution_count": 51,
     "metadata": {},
     "output_type": "execute_result"
    }
   ],
   "source": [
    "statistics.mode(data)"
   ]
  },
  {
   "cell_type": "code",
   "execution_count": 52,
   "id": "9a7f0af1",
   "metadata": {},
   "outputs": [
    {
     "data": {
      "text/plain": [
       "ModeResult(mode=32, count=3)"
      ]
     },
     "execution_count": 52,
     "metadata": {},
     "output_type": "execute_result"
    }
   ],
   "source": [
    "from scipy import stats as st\n",
    "st.mode(data)"
   ]
  },
  {
   "cell_type": "code",
   "execution_count": 60,
   "id": "5051ddc2",
   "metadata": {},
   "outputs": [],
   "source": [
    "def mean(data):\n",
    "    total_sum = 0\n",
    "    for i in data:\n",
    "        total_sum = total_sum + i\n",
    "    mean_value = total_sum / len(data)\n",
    "    \n",
    "    return mean_value"
   ]
  },
  {
   "cell_type": "code",
   "execution_count": 61,
   "id": "6a505276",
   "metadata": {},
   "outputs": [
    {
     "data": {
      "text/plain": [
       "37.36363636363637"
      ]
     },
     "execution_count": 61,
     "metadata": {},
     "output_type": "execute_result"
    }
   ],
   "source": [
    "mean(data)"
   ]
  },
  {
   "cell_type": "code",
   "execution_count": 63,
   "id": "068f0a5b",
   "metadata": {},
   "outputs": [],
   "source": [
    "data_copy.append(150)"
   ]
  },
  {
   "cell_type": "markdown",
   "id": "54c22a2b",
   "metadata": {},
   "source": [
    "In Python, the append() method is a list method used to add an element to the end of a list. When you call append() on a list, it modifies the original list by adding the specified element to the end."
   ]
  },
  {
   "cell_type": "code",
   "execution_count": 64,
   "id": "9ae88081",
   "metadata": {},
   "outputs": [
    {
     "data": {
      "text/plain": [
       "[12, 23, 24, 32, 32, 32, 43, 45, 45, 56, 67, 150]"
      ]
     },
     "execution_count": 64,
     "metadata": {},
     "output_type": "execute_result"
    }
   ],
   "source": [
    "data_copy"
   ]
  },
  {
   "cell_type": "code",
   "execution_count": 65,
   "id": "b14584a8",
   "metadata": {},
   "outputs": [],
   "source": [
    "data_copy2 = data.copy()"
   ]
  },
  {
   "cell_type": "code",
   "execution_count": 66,
   "id": "a29c5a47",
   "metadata": {},
   "outputs": [
    {
     "data": {
      "text/plain": [
       "[23, 24, 32, 45, 12, 43, 67, 45, 32, 56, 32]"
      ]
     },
     "execution_count": 66,
     "metadata": {},
     "output_type": "execute_result"
    }
   ],
   "source": [
    "data_copy2"
   ]
  },
  {
   "cell_type": "code",
   "execution_count": 68,
   "id": "5f8099fe",
   "metadata": {},
   "outputs": [],
   "source": [
    "data_copy2.append(75)"
   ]
  },
  {
   "cell_type": "code",
   "execution_count": 70,
   "id": "a028e25a",
   "metadata": {},
   "outputs": [
    {
     "data": {
      "text/plain": [
       "40.5"
      ]
     },
     "execution_count": 70,
     "metadata": {},
     "output_type": "execute_result"
    }
   ],
   "source": [
    "np.mean(data_copy2)"
   ]
  },
  {
   "cell_type": "code",
   "execution_count": 71,
   "id": "212bd147",
   "metadata": {},
   "outputs": [
    {
     "data": {
      "text/plain": [
       "46.75"
      ]
     },
     "execution_count": 71,
     "metadata": {},
     "output_type": "execute_result"
    }
   ],
   "source": [
    "np.mean(data_copy)"
   ]
  },
  {
   "cell_type": "code",
   "execution_count": 72,
   "id": "c854bd00",
   "metadata": {},
   "outputs": [
    {
     "data": {
      "text/plain": [
       "32.0"
      ]
     },
     "execution_count": 72,
     "metadata": {},
     "output_type": "execute_result"
    }
   ],
   "source": [
    "np.median(data)"
   ]
  },
  {
   "cell_type": "code",
   "execution_count": 73,
   "id": "94a347be",
   "metadata": {},
   "outputs": [
    {
     "data": {
      "text/plain": [
       "37.5"
      ]
     },
     "execution_count": 73,
     "metadata": {},
     "output_type": "execute_result"
    }
   ],
   "source": [
    "np.median(data_copy)"
   ]
  },
  {
   "cell_type": "raw",
   "id": "fdfebdb6",
   "metadata": {},
   "source": [
    "Central tendency is a statistical measure that describes the center or typical value of a set of data. It provides a way to summarize and describe the main features of a dataset by identifying a central or representative value around which the other values tend to cluster.\n",
    "\n",
    "There are three common measures of central tendency:\n",
    "\n",
    "1.Mean (Average): The mean is calculated by adding up all the values in a dataset and then dividing the sum by the number of values. It is sensitive to extreme values (outliers) and is commonly used when the data is roughly symmetrically distributed.\n",
    "\n",
    "Formula: Mean=Sum of all values/Number of values\n",
    "\n",
    "\n",
    "2.Median: The median is the middle value of a dataset when it is ordered from least to greatest. If there is an even number of observations, the median is the average of the two middle values. The median is less sensitive to extreme values and is a good measure of central tendency for skewed distributions.\n",
    "\n",
    "To find the median, you sort the data and find the middle value.\n",
    "\n",
    "3.Mode: The mode is the value that appears most frequently in a dataset. A dataset may have no mode, one mode (unimodal), or multiple modes (multimodal). Mode is often used with categorical data but can be used with numerical data as well.\n",
    "\n",
    "These measures provide different perspectives on the central tendency of a dataset, and the choice of which to use depends on the characteristics of the data and the objectives of the analysis."
   ]
  },
  {
   "cell_type": "code",
   "execution_count": 74,
   "id": "2474c28d",
   "metadata": {},
   "outputs": [
    {
     "data": {
      "text/plain": [
       "[12, 23, 24, 32, 32, 32, 43, 45, 45, 56, 67, 150]"
      ]
     },
     "execution_count": 74,
     "metadata": {},
     "output_type": "execute_result"
    }
   ],
   "source": [
    "data_copy"
   ]
  },
  {
   "cell_type": "code",
   "execution_count": 75,
   "id": "776f1519",
   "metadata": {},
   "outputs": [
    {
     "data": {
      "text/plain": [
       "150"
      ]
     },
     "execution_count": 75,
     "metadata": {},
     "output_type": "execute_result"
    }
   ],
   "source": [
    "data_copy.pop()"
   ]
  },
  {
   "cell_type": "code",
   "execution_count": 76,
   "id": "418d2ab0",
   "metadata": {},
   "outputs": [
    {
     "data": {
      "text/plain": [
       "[12, 23, 24, 32, 32, 32, 43, 45, 45, 56, 67]"
      ]
     },
     "execution_count": 76,
     "metadata": {},
     "output_type": "execute_result"
    }
   ],
   "source": [
    "data_copy"
   ]
  },
  {
   "cell_type": "raw",
   "id": "e2d07f38",
   "metadata": {},
   "source": [
    "The pop() method in Python is used to remove and return the last element from a list. If you have a list called data_copy, calling data_copy.pop() will remove the last element from that list.\n",
    "\n",
    "f you want to remove an element from a specific index rather than the last one, you can pass the index as an argument to the pop() method. For example, data_copy.pop(2) would remove the element at index 2 from the list"
   ]
  },
  {
   "cell_type": "code",
   "execution_count": 85,
   "id": "be5ff30c",
   "metadata": {},
   "outputs": [
    {
     "data": {
      "text/plain": [
       "array([28.])"
      ]
     },
     "execution_count": 85,
     "metadata": {},
     "output_type": "execute_result"
    }
   ],
   "source": [
    "np.percentile(data,[25])"
   ]
  },
  {
   "cell_type": "code",
   "execution_count": 86,
   "id": "26288570",
   "metadata": {},
   "outputs": [
    {
     "data": {
      "text/plain": [
       "array([32.])"
      ]
     },
     "execution_count": 86,
     "metadata": {},
     "output_type": "execute_result"
    }
   ],
   "source": [
    "np.percentile(data,[50])"
   ]
  },
  {
   "cell_type": "code",
   "execution_count": 87,
   "id": "ea403a51",
   "metadata": {},
   "outputs": [
    {
     "data": {
      "text/plain": [
       "array([28., 32., 45., 67.])"
      ]
     },
     "execution_count": 87,
     "metadata": {},
     "output_type": "execute_result"
    }
   ],
   "source": [
    "np.percentile(data,[25,50,75,100])"
   ]
  },
  {
   "cell_type": "raw",
   "id": "1b334235",
   "metadata": {},
   "source": [
    "Percentile:\n",
    "\n",
    "A percentile is a measure that tells you what percentage of the data falls below a certain value.\n",
    "\n",
    "Example using np.percentile:\n",
    "\n",
    "If you have a dataset (data) and you use np.percentile(data, [25]), it means you want to find the value below which 25% of the data falls.\n",
    "The number inside the square brackets ([25]) is the desired percentile. In this case, it's 25%, but you can change it to find other percentiles.\n",
    "In simpler terms, using np.percentile(data, [25]) helps you identify a value below which a specific percentage of your data is located."
   ]
  },
  {
   "cell_type": "code",
   "execution_count": 90,
   "id": "9aca10ea",
   "metadata": {},
   "outputs": [],
   "source": [
    "data_copy.append(150)"
   ]
  },
  {
   "cell_type": "code",
   "execution_count": 91,
   "id": "17adc315",
   "metadata": {},
   "outputs": [
    {
     "data": {
      "text/plain": [
       "[12, 23, 24, 32, 32, 32, 43, 45, 45, 56, 67, 150]"
      ]
     },
     "execution_count": 91,
     "metadata": {},
     "output_type": "execute_result"
    }
   ],
   "source": [
    "data_copy"
   ]
  },
  {
   "cell_type": "code",
   "execution_count": 92,
   "id": "e95aeea1",
   "metadata": {},
   "outputs": [
    {
     "data": {
      "text/plain": [
       "<Axes: >"
      ]
     },
     "execution_count": 92,
     "metadata": {},
     "output_type": "execute_result"
    },
    {
     "data": {
      "image/png": "[encoded data removed]",
      "text/plain": [
       "<Figure size 640x480 with 1 Axes>"
      ]
     },
     "metadata": {},
     "output_type": "display_data"
    }
   ],
   "source": [
    "import seaborn as sns\n",
    "sns.boxplot(data_copy)"
   ]
  },
  {
   "cell_type": "raw",
   "id": "11d2a294",
   "metadata": {},
   "source": [
    "Seaborn library to create a boxplot. A boxplot is a graphical representation that displays the distribution of a dataset based on five summary statistics: minimum, first quartile (Q1), median (Q2), third quartile (Q3), and maximum. It can also help identify potential outliers.\n",
    "    \n",
    "You've defined a list called data_copy containing numerical values.\n",
    "\n",
    "You've imported the Seaborn library using import seaborn as sns.\n",
    "\n",
    "You've created a boxplot using sns.boxplot(data_copy). This command uses Seaborn's boxplot function to visualize the distribution of the data in data_copy.\n",
    "\n",
    "The box represents the interquartile range (IQR) between the first quartile (Q1) and the third quartile (Q3).\n",
    "The line inside the box represents the median (Q2).\n",
    "The \"whiskers\" extend to the minimum and maximum values within 1.5 times the IQR.\n",
    "Points beyond the whiskers may be considered as potential outliers.\n",
    "By looking at the boxplot, you can get a visual summary of the distribution of your data, identify the central tendency, and observe any potential outliers."
   ]
  },
  {
   "cell_type": "raw",
   "id": "be11caaf",
   "metadata": {},
   "source": [
    "Absolutely! Let's break it down in an easy way:\n",
    "\n",
    "In a boxplot, the \"whiskers\" are the lines that extend from the box. Here's what \"whiskers extend to the minimum and maximum values within 1.5 times the IQR\" means:\n",
    "\n",
    "1. **Interquartile Range (IQR):**\n",
    "   - The IQR is the range where the middle 50% of your data lies. It's the difference between the third quartile (Q3) and the first quartile (Q1).\n",
    "\n",
    "2. **Whiskers:**\n",
    "   - The whiskers in a boxplot are lines that extend from the box to show the range of your data outside the IQR.\n",
    "\n",
    "3. **1.5 times the IQR:**\n",
    "   - To determine how far the whiskers should reach, we use a factor of 1.5 times the IQR.\n",
    "\n",
    "4. **Extending to Minimum and Maximum:**\n",
    "   - The whiskers extend to cover the data points within 1.5 times the IQR from the Q1 and Q3.\n",
    "\n",
    "In simpler terms, the whiskers show where most of your data lies, and they extend up to a certain distance beyond the box. This distance is calculated based on the spread of your data (IQR). Any data points beyond this distance might be considered as potential outliers. So, the boxplot gives you a visual way to identify the typical range of your data and spot values that are significantly different from the rest."
   ]
  },
  {
   "cell_type": "code",
   "execution_count": 94,
   "id": "51aa6e42",
   "metadata": {},
   "outputs": [
    {
     "data": {
      "text/plain": [
       "[23, 24, 32, 45, 12, 43, 67, 45, 32, 56, 32]"
      ]
     },
     "execution_count": 94,
     "metadata": {},
     "output_type": "execute_result"
    }
   ],
   "source": [
    "data"
   ]
  },
  {
   "cell_type": "raw",
   "id": "a5c517a8",
   "metadata": {},
   "source": [
    "1.Simple Random Sampling:\n",
    "\n",
    "Selecting a random subset from the entire population."
   ]
  },
  {
   "cell_type": "code",
   "execution_count": 95,
   "id": "1bdaf54f",
   "metadata": {},
   "outputs": [
    {
     "name": "stdout",
     "output_type": "stream",
     "text": [
      "[10, 7, 5, 1, 6]\n"
     ]
    }
   ],
   "source": [
    "import random\n",
    "\n",
    "population = [1, 2, 3, 4, 5, 6, 7, 8, 9, 10]\n",
    "sample_size = 5\n",
    "\n",
    "random_sample = random.sample(population, sample_size)\n",
    "print(random_sample)\n"
   ]
  },
  {
   "cell_type": "raw",
   "id": "3c8f0685",
   "metadata": {},
   "source": [
    "2.Stratified Sampling:\n",
    "\n",
    "Dividing the population into subgroups (strata) and then randomly sampling from each subgroup.\n",
    "python\n"
   ]
  },
  {
   "cell_type": "code",
   "execution_count": 104,
   "id": "87d624d1",
   "metadata": {},
   "outputs": [
    {
     "name": "stdout",
     "output_type": "stream",
     "text": [
      "[3, 5, 9]\n"
     ]
    }
   ],
   "source": [
    "from sklearn.model_selection import train_test_split\n",
    "\n",
    "population = [1, 2, 3, 4, 5, 6, 7, 8, 9, 10]\n",
    "strata_labels = [0, 0, 0, 1, 1, 1, 2, 2, 2, 2]\n",
    "\n",
    "stratified_sample = train_test_split(population, test_size=0.3, stratify=strata_labels)[1]\n",
    "print(stratified_sample)\n"
   ]
  },
  {
   "cell_type": "raw",
   "id": "06531bb2",
   "metadata": {},
   "source": [
    "3.Systematic Sampling:\n",
    "\n",
    "Selecting every kth element from a list after a random start."
   ]
  },
  {
   "cell_type": "code",
   "execution_count": 106,
   "id": "8e2a938b",
   "metadata": {},
   "outputs": [
    {
     "name": "stdout",
     "output_type": "stream",
     "text": [
      "[1, 3, 5, 7, 9]\n"
     ]
    }
   ],
   "source": [
    "population = [1, 2, 3, 4, 5, 6, 7, 8, 9, 10]\n",
    "k = 2\n",
    "\n",
    "systematic_sample = population[::k]\n",
    "print(systematic_sample)\n"
   ]
  },
  {
   "cell_type": "raw",
   "id": "edd89852",
   "metadata": {},
   "source": [
    "4.Cluster Sampling:\n",
    "\n",
    "Dividing the population into clusters, randomly selecting some clusters, and then sampling all elements from the selected clusters."
   ]
  },
  {
   "cell_type": "code",
   "execution_count": 107,
   "id": "0b150225",
   "metadata": {},
   "outputs": [
    {
     "name": "stdout",
     "output_type": "stream",
     "text": [
      "[1, 2, 7, 8]\n"
     ]
    }
   ],
   "source": [
    "from sklearn.utils import resample\n",
    "\n",
    "population = [1, 2, 3, 4, 5, 6, 7, 8, 9, 10]\n",
    "num_clusters = 2\n",
    "\n",
    "clusters = [population[i:i+num_clusters] for i in range(0, len(population), num_clusters)]\n",
    "selected_clusters = resample(clusters, n_samples=2)\n",
    "cluster_sample = [element for cluster in selected_clusters for element in cluster]\n",
    "print(cluster_sample)\n"
   ]
  },
  {
   "cell_type": "raw",
   "id": "94d435e6",
   "metadata": {},
   "source": [
    "5.Convenience Sampling:\n",
    "\n",
    "Selecting the most readily available individuals for the sample."
   ]
  },
  {
   "cell_type": "code",
   "execution_count": 109,
   "id": "45f41e99",
   "metadata": {},
   "outputs": [
    {
     "name": "stdout",
     "output_type": "stream",
     "text": [
      "[2, 4, 6, 9]\n"
     ]
    }
   ],
   "source": [
    "population = [1, 2, 3, 4, 5, 6, 7, 8, 9, 10]\n",
    "convenience_sample = [population[i] for i in [1, 3, 5, 8]]\n",
    "print(convenience_sample)\n"
   ]
  },
  {
   "cell_type": "code",
   "execution_count": 110,
   "id": "e865fef7",
   "metadata": {},
   "outputs": [
    {
     "data": {
      "text/plain": [
       "[23, 24, 32, 45, 12, 43, 67, 45, 32, 56, 32]"
      ]
     },
     "execution_count": 110,
     "metadata": {},
     "output_type": "execute_result"
    }
   ],
   "source": [
    "data"
   ]
  },
  {
   "cell_type": "raw",
   "id": "b75bb35f",
   "metadata": {},
   "source": [
    "sample/population\n"
   ]
  },
  {
   "cell_type": "code",
   "execution_count": 114,
   "id": "ef65516d",
   "metadata": {},
   "outputs": [
    {
     "data": {
      "text/plain": [
       "array([32, 67, 45, 67])"
      ]
     },
     "execution_count": 114,
     "metadata": {},
     "output_type": "execute_result"
    }
   ],
   "source": [
    "np.random.choice(data, size =4)"
   ]
  },
  {
   "cell_type": "raw",
   "id": "e72c2704",
   "metadata": {},
   "source": [
    "np: As before, this stands for NumPy, the numerical computing library in Python.\n",
    "\n",
    "np.random: This is the NumPy sub-module for random number generation.\n",
    "\n",
    "choice: This method is used to generate a random sample from a given 1-dimensional array.\n",
    "\n",
    "data: This is the array or sequence of values from which random samples will be drawn.\n",
    "\n",
    "size=4: This parameter specifies the number of elements to be sampled. In this case, it's set to 4, so the result will be an array containing 4 randomly chosen elements from the data array.\n",
    "\n",
    "So, the line of code generates a random sample of 4 elements from the given data array using NumPy's random.choice method."
   ]
  },
  {
   "cell_type": "code",
   "execution_count": 115,
   "id": "9843404f",
   "metadata": {},
   "outputs": [
    {
     "data": {
      "text/html": [
       "<div>\n",
       "<style scoped>\n",
       "    .dataframe tbody tr th:only-of-type {\n",
       "        vertical-align: middle;\n",
       "    }\n",
       "\n",
       "    .dataframe tbody tr th {\n",
       "        vertical-align: top;\n",
       "    }\n",
       "\n",
       "    .dataframe thead th {\n",
       "        text-align: right;\n",
       "    }\n",
       "</style>\n",
       "<table border=\"1\" class=\"dataframe\">\n",
       "  <thead>\n",
       "    <tr style=\"text-align: right;\">\n",
       "      <th></th>\n",
       "      <th>Id</th>\n",
       "      <th>SepalLengthCm</th>\n",
       "      <th>SepalWidthCm</th>\n",
       "      <th>PetalLengthCm</th>\n",
       "      <th>PetalWidthCm</th>\n",
       "      <th>Species</th>\n",
       "    </tr>\n",
       "  </thead>\n",
       "  <tbody>\n",
       "    <tr>\n",
       "      <th>42</th>\n",
       "      <td>43</td>\n",
       "      <td>4.4</td>\n",
       "      <td>3.2</td>\n",
       "      <td>1.3</td>\n",
       "      <td>0.2</td>\n",
       "      <td>Iris-setosa</td>\n",
       "    </tr>\n",
       "    <tr>\n",
       "      <th>140</th>\n",
       "      <td>141</td>\n",
       "      <td>6.7</td>\n",
       "      <td>3.1</td>\n",
       "      <td>5.6</td>\n",
       "      <td>2.4</td>\n",
       "      <td>Iris-virginica</td>\n",
       "    </tr>\n",
       "    <tr>\n",
       "      <th>96</th>\n",
       "      <td>97</td>\n",
       "      <td>5.7</td>\n",
       "      <td>2.9</td>\n",
       "      <td>4.2</td>\n",
       "      <td>1.3</td>\n",
       "      <td>Iris-versicolor</td>\n",
       "    </tr>\n",
       "    <tr>\n",
       "      <th>22</th>\n",
       "      <td>23</td>\n",
       "      <td>4.6</td>\n",
       "      <td>3.6</td>\n",
       "      <td>1.0</td>\n",
       "      <td>0.2</td>\n",
       "      <td>Iris-setosa</td>\n",
       "    </tr>\n",
       "    <tr>\n",
       "      <th>117</th>\n",
       "      <td>118</td>\n",
       "      <td>7.7</td>\n",
       "      <td>3.8</td>\n",
       "      <td>6.7</td>\n",
       "      <td>2.2</td>\n",
       "      <td>Iris-virginica</td>\n",
       "    </tr>\n",
       "    <tr>\n",
       "      <th>149</th>\n",
       "      <td>150</td>\n",
       "      <td>5.9</td>\n",
       "      <td>3.0</td>\n",
       "      <td>5.1</td>\n",
       "      <td>1.8</td>\n",
       "      <td>Iris-virginica</td>\n",
       "    </tr>\n",
       "    <tr>\n",
       "      <th>144</th>\n",
       "      <td>145</td>\n",
       "      <td>6.7</td>\n",
       "      <td>3.3</td>\n",
       "      <td>5.7</td>\n",
       "      <td>2.5</td>\n",
       "      <td>Iris-virginica</td>\n",
       "    </tr>\n",
       "    <tr>\n",
       "      <th>146</th>\n",
       "      <td>147</td>\n",
       "      <td>6.3</td>\n",
       "      <td>2.5</td>\n",
       "      <td>5.0</td>\n",
       "      <td>1.9</td>\n",
       "      <td>Iris-virginica</td>\n",
       "    </tr>\n",
       "    <tr>\n",
       "      <th>44</th>\n",
       "      <td>45</td>\n",
       "      <td>5.1</td>\n",
       "      <td>3.8</td>\n",
       "      <td>1.9</td>\n",
       "      <td>0.4</td>\n",
       "      <td>Iris-setosa</td>\n",
       "    </tr>\n",
       "    <tr>\n",
       "      <th>133</th>\n",
       "      <td>134</td>\n",
       "      <td>6.3</td>\n",
       "      <td>2.8</td>\n",
       "      <td>5.1</td>\n",
       "      <td>1.5</td>\n",
       "      <td>Iris-virginica</td>\n",
       "    </tr>\n",
       "    <tr>\n",
       "      <th>56</th>\n",
       "      <td>57</td>\n",
       "      <td>6.3</td>\n",
       "      <td>3.3</td>\n",
       "      <td>4.7</td>\n",
       "      <td>1.6</td>\n",
       "      <td>Iris-versicolor</td>\n",
       "    </tr>\n",
       "    <tr>\n",
       "      <th>36</th>\n",
       "      <td>37</td>\n",
       "      <td>5.5</td>\n",
       "      <td>3.5</td>\n",
       "      <td>1.3</td>\n",
       "      <td>0.2</td>\n",
       "      <td>Iris-setosa</td>\n",
       "    </tr>\n",
       "    <tr>\n",
       "      <th>17</th>\n",
       "      <td>18</td>\n",
       "      <td>5.1</td>\n",
       "      <td>3.5</td>\n",
       "      <td>1.4</td>\n",
       "      <td>0.3</td>\n",
       "      <td>Iris-setosa</td>\n",
       "    </tr>\n",
       "    <tr>\n",
       "      <th>127</th>\n",
       "      <td>128</td>\n",
       "      <td>6.1</td>\n",
       "      <td>3.0</td>\n",
       "      <td>4.9</td>\n",
       "      <td>1.8</td>\n",
       "      <td>Iris-virginica</td>\n",
       "    </tr>\n",
       "    <tr>\n",
       "      <th>86</th>\n",
       "      <td>87</td>\n",
       "      <td>6.7</td>\n",
       "      <td>3.1</td>\n",
       "      <td>4.7</td>\n",
       "      <td>1.5</td>\n",
       "      <td>Iris-versicolor</td>\n",
       "    </tr>\n",
       "  </tbody>\n",
       "</table>\n",
       "</div>"
      ],
      "text/plain": [
       "      Id  SepalLengthCm  SepalWidthCm  PetalLengthCm  PetalWidthCm  \\\n",
       "42    43            4.4           3.2            1.3           0.2   \n",
       "140  141            6.7           3.1            5.6           2.4   \n",
       "96    97            5.7           2.9            4.2           1.3   \n",
       "22    23            4.6           3.6            1.0           0.2   \n",
       "117  118            7.7           3.8            6.7           2.2   \n",
       "149  150            5.9           3.0            5.1           1.8   \n",
       "144  145            6.7           3.3            5.7           2.5   \n",
       "146  147            6.3           2.5            5.0           1.9   \n",
       "44    45            5.1           3.8            1.9           0.4   \n",
       "133  134            6.3           2.8            5.1           1.5   \n",
       "56    57            6.3           3.3            4.7           1.6   \n",
       "36    37            5.5           3.5            1.3           0.2   \n",
       "17    18            5.1           3.5            1.4           0.3   \n",
       "127  128            6.1           3.0            4.9           1.8   \n",
       "86    87            6.7           3.1            4.7           1.5   \n",
       "\n",
       "             Species  \n",
       "42       Iris-setosa  \n",
       "140   Iris-virginica  \n",
       "96   Iris-versicolor  \n",
       "22       Iris-setosa  \n",
       "117   Iris-virginica  \n",
       "149   Iris-virginica  \n",
       "144   Iris-virginica  \n",
       "146   Iris-virginica  \n",
       "44       Iris-setosa  \n",
       "133   Iris-virginica  \n",
       "56   Iris-versicolor  \n",
       "36       Iris-setosa  \n",
       "17       Iris-setosa  \n",
       "127   Iris-virginica  \n",
       "86   Iris-versicolor  "
      ]
     },
     "execution_count": 115,
     "metadata": {},
     "output_type": "execute_result"
    }
   ],
   "source": [
    "data2.sample(n=15)"
   ]
  },
  {
   "cell_type": "code",
   "execution_count": 116,
   "id": "83eab1ef",
   "metadata": {},
   "outputs": [
    {
     "data": {
      "text/plain": [
       "[23, 24, 32, 45, 12, 43, 67, 45, 32, 56, 32]"
      ]
     },
     "execution_count": 116,
     "metadata": {},
     "output_type": "execute_result"
    }
   ],
   "source": [
    "data"
   ]
  },
  {
   "cell_type": "code",
   "execution_count": 117,
   "id": "d4923e33",
   "metadata": {},
   "outputs": [
    {
     "data": {
      "text/plain": [
       "11"
      ]
     },
     "execution_count": 117,
     "metadata": {},
     "output_type": "execute_result"
    }
   ],
   "source": [
    "len(data)"
   ]
  },
  {
   "cell_type": "code",
   "execution_count": 118,
   "id": "5b32f152",
   "metadata": {},
   "outputs": [
    {
     "data": {
      "text/plain": [
       "10"
      ]
     },
     "execution_count": 118,
     "metadata": {},
     "output_type": "execute_result"
    }
   ],
   "source": [
    "len(data)-1"
   ]
  },
  {
   "cell_type": "code",
   "execution_count": 123,
   "id": "196b0899",
   "metadata": {},
   "outputs": [],
   "source": [
    "#python code for variance\n",
    "def variance(data):\n",
    "    n=len(data)\n",
    "    ## mean of the data\n",
    "    mean=sum(data)/n\n",
    "    ## variance\n",
    "    deviation=[(x - mean) ** 2 for x in data]\n",
    "    variance=sum(deviation)/(n-1)\n",
    "    return variance"
   ]
  },
  {
   "cell_type": "raw",
   "id": "4199e467",
   "metadata": {},
   "source": [
    "Variance is a statistical measure that describes the degree of spread or dispersion in a set of data points. It provides a numerical value that indicates how much the values in a dataset differ from the mean (average) value. In other words, variance quantifies the extent to which individual data points deviate from the central tendency of the data.\n",
    "\n",
    "Here are the key steps to calculate the variance:\n",
    "\n",
    "1. **Calculate the Mean (Average):** Find the arithmetic mean of the data set.\n",
    "\n",
    "σ^2 = ∑(xi−μ)^2/n\n",
    "\n",
    "\n",
    "Variance is a crucial concept in statistics and is often used in conjunction with the standard deviation, which is the square root of the variance. The standard deviation provides a measure of dispersion that is in the same units as the original data, making it more interpretable.\n",
    "\n",
    "In summary, variance is a measure of how much individual data points in a dataset vary from the mean, providing insights into the spread or distribution of the data."
   ]
  },
  {
   "cell_type": "code",
   "execution_count": 124,
   "id": "75226c52",
   "metadata": {},
   "outputs": [
    {
     "data": {
      "text/plain": [
       "248.8545454545455"
      ]
     },
     "execution_count": 124,
     "metadata": {},
     "output_type": "execute_result"
    }
   ],
   "source": [
    "variance(data)"
   ]
  },
  {
   "cell_type": "code",
   "execution_count": 125,
   "id": "eb78f34d",
   "metadata": {},
   "outputs": [
    {
     "data": {
      "text/plain": [
       "226.23140495867773"
      ]
     },
     "execution_count": 125,
     "metadata": {},
     "output_type": "execute_result"
    }
   ],
   "source": [
    "np.var(data)"
   ]
  },
  {
   "cell_type": "code",
   "execution_count": 126,
   "id": "ca357974",
   "metadata": {},
   "outputs": [
    {
     "data": {
      "text/plain": [
       "15.040990823701666"
      ]
     },
     "execution_count": 126,
     "metadata": {},
     "output_type": "execute_result"
    }
   ],
   "source": [
    "np.std(data)"
   ]
  },
  {
   "cell_type": "raw",
   "id": "dc3f84e5",
   "metadata": {},
   "source": [
    "The standard deviation ((sigma)) is a measure of the amount of variation or dispersion in a set of values. It is closely related to the variance (sigma^2), as the standard deviation is the square root of the variance. The standard deviation is often preferred in practice because it is expressed in the same units as the original data, making it more interpretable.\n",
    "\n",
    "The formula for the standard deviation is as follows:\n",
    "\n",
    "[sigma = sqrt{sigma^2}]\n",
    "\n",
    "In other words, it is the square root of the variance.\n",
    "\n",
    "The steps involved in calculating the standard deviation are similar to those for calculating the variance:\n",
    "\n",
    "1. Find the mean ((mu) of the dataset.\n",
    "2. Subtract the mean from each data point (xi).\n",
    "3. Square the result of each subtraction.\n",
    "4. Calculate the average of the squared differences.\n",
    "5. Take the square root of the result obtained in step 4.\n",
    "\n",
    "Mathematically, the standard deviation can be expressed as:\n",
    "\n",
    "[sigma = sqrt{frac{1}{n} sum_{i=1}^{n} (xi - mu)^2}]\n",
    "\n",
    "Where:\n",
    "(n) is the number of data points in the dataset.\n",
    "(xi) represents each individual data point.\n",
    "(mu) is the mean (average) of the dataset.\n",
    "\n",
    "The standard deviation provides a measure of the spread of values in a dataset, and it is widely used in statistics to describe the variability within a set of data."
   ]
  },
  {
   "cell_type": "code",
   "execution_count": 127,
   "id": "42e9aab8",
   "metadata": {},
   "outputs": [
    {
     "data": {
      "text/plain": [
       "248.85454545454544"
      ]
     },
     "execution_count": 127,
     "metadata": {},
     "output_type": "execute_result"
    }
   ],
   "source": [
    "statistics.variance(data)"
   ]
  },
  {
   "cell_type": "code",
   "execution_count": 128,
   "id": "afde78a2",
   "metadata": {},
   "outputs": [
    {
     "data": {
      "text/plain": [
       "226.23140495867767"
      ]
     },
     "execution_count": 128,
     "metadata": {},
     "output_type": "execute_result"
    }
   ],
   "source": [
    "statistics.pvariance(data)"
   ]
  },
  {
   "cell_type": "code",
   "execution_count": 130,
   "id": "af581c5e",
   "metadata": {},
   "outputs": [
    {
     "data": {
      "text/plain": [
       "15.775124261144361"
      ]
     },
     "execution_count": 130,
     "metadata": {},
     "output_type": "execute_result"
    }
   ],
   "source": [
    "import math\n",
    "math.sqrt(statistics.variance(data))"
   ]
  },
  {
   "cell_type": "code",
   "execution_count": 131,
   "id": "7e46eefe",
   "metadata": {},
   "outputs": [],
   "source": [
    "df = sns.load_dataset(\"tips\")"
   ]
  },
  {
   "cell_type": "code",
   "execution_count": 132,
   "id": "1468e888",
   "metadata": {},
   "outputs": [
    {
     "data": {
      "text/html": [
       "<div>\n",
       "<style scoped>\n",
       "    .dataframe tbody tr th:only-of-type {\n",
       "        vertical-align: middle;\n",
       "    }\n",
       "\n",
       "    .dataframe tbody tr th {\n",
       "        vertical-align: top;\n",
       "    }\n",
       "\n",
       "    .dataframe thead th {\n",
       "        text-align: right;\n",
       "    }\n",
       "</style>\n",
       "<table border=\"1\" class=\"dataframe\">\n",
       "  <thead>\n",
       "    <tr style=\"text-align: right;\">\n",
       "      <th></th>\n",
       "      <th>total_bill</th>\n",
       "      <th>tip</th>\n",
       "      <th>sex</th>\n",
       "      <th>smoker</th>\n",
       "      <th>day</th>\n",
       "      <th>time</th>\n",
       "      <th>size</th>\n",
       "    </tr>\n",
       "  </thead>\n",
       "  <tbody>\n",
       "    <tr>\n",
       "      <th>0</th>\n",
       "      <td>16.99</td>\n",
       "      <td>1.01</td>\n",
       "      <td>Female</td>\n",
       "      <td>No</td>\n",
       "      <td>Sun</td>\n",
       "      <td>Dinner</td>\n",
       "      <td>2</td>\n",
       "    </tr>\n",
       "    <tr>\n",
       "      <th>1</th>\n",
       "      <td>10.34</td>\n",
       "      <td>1.66</td>\n",
       "      <td>Male</td>\n",
       "      <td>No</td>\n",
       "      <td>Sun</td>\n",
       "      <td>Dinner</td>\n",
       "      <td>3</td>\n",
       "    </tr>\n",
       "    <tr>\n",
       "      <th>2</th>\n",
       "      <td>21.01</td>\n",
       "      <td>3.50</td>\n",
       "      <td>Male</td>\n",
       "      <td>No</td>\n",
       "      <td>Sun</td>\n",
       "      <td>Dinner</td>\n",
       "      <td>3</td>\n",
       "    </tr>\n",
       "    <tr>\n",
       "      <th>3</th>\n",
       "      <td>23.68</td>\n",
       "      <td>3.31</td>\n",
       "      <td>Male</td>\n",
       "      <td>No</td>\n",
       "      <td>Sun</td>\n",
       "      <td>Dinner</td>\n",
       "      <td>2</td>\n",
       "    </tr>\n",
       "    <tr>\n",
       "      <th>4</th>\n",
       "      <td>24.59</td>\n",
       "      <td>3.61</td>\n",
       "      <td>Female</td>\n",
       "      <td>No</td>\n",
       "      <td>Sun</td>\n",
       "      <td>Dinner</td>\n",
       "      <td>4</td>\n",
       "    </tr>\n",
       "    <tr>\n",
       "      <th>...</th>\n",
       "      <td>...</td>\n",
       "      <td>...</td>\n",
       "      <td>...</td>\n",
       "      <td>...</td>\n",
       "      <td>...</td>\n",
       "      <td>...</td>\n",
       "      <td>...</td>\n",
       "    </tr>\n",
       "    <tr>\n",
       "      <th>239</th>\n",
       "      <td>29.03</td>\n",
       "      <td>5.92</td>\n",
       "      <td>Male</td>\n",
       "      <td>No</td>\n",
       "      <td>Sat</td>\n",
       "      <td>Dinner</td>\n",
       "      <td>3</td>\n",
       "    </tr>\n",
       "    <tr>\n",
       "      <th>240</th>\n",
       "      <td>27.18</td>\n",
       "      <td>2.00</td>\n",
       "      <td>Female</td>\n",
       "      <td>Yes</td>\n",
       "      <td>Sat</td>\n",
       "      <td>Dinner</td>\n",
       "      <td>2</td>\n",
       "    </tr>\n",
       "    <tr>\n",
       "      <th>241</th>\n",
       "      <td>22.67</td>\n",
       "      <td>2.00</td>\n",
       "      <td>Male</td>\n",
       "      <td>Yes</td>\n",
       "      <td>Sat</td>\n",
       "      <td>Dinner</td>\n",
       "      <td>2</td>\n",
       "    </tr>\n",
       "    <tr>\n",
       "      <th>242</th>\n",
       "      <td>17.82</td>\n",
       "      <td>1.75</td>\n",
       "      <td>Male</td>\n",
       "      <td>No</td>\n",
       "      <td>Sat</td>\n",
       "      <td>Dinner</td>\n",
       "      <td>2</td>\n",
       "    </tr>\n",
       "    <tr>\n",
       "      <th>243</th>\n",
       "      <td>18.78</td>\n",
       "      <td>3.00</td>\n",
       "      <td>Female</td>\n",
       "      <td>No</td>\n",
       "      <td>Thur</td>\n",
       "      <td>Dinner</td>\n",
       "      <td>2</td>\n",
       "    </tr>\n",
       "  </tbody>\n",
       "</table>\n",
       "<p>244 rows × 7 columns</p>\n",
       "</div>"
      ],
      "text/plain": [
       "     total_bill   tip     sex smoker   day    time  size\n",
       "0         16.99  1.01  Female     No   Sun  Dinner     2\n",
       "1         10.34  1.66    Male     No   Sun  Dinner     3\n",
       "2         21.01  3.50    Male     No   Sun  Dinner     3\n",
       "3         23.68  3.31    Male     No   Sun  Dinner     2\n",
       "4         24.59  3.61  Female     No   Sun  Dinner     4\n",
       "..          ...   ...     ...    ...   ...     ...   ...\n",
       "239       29.03  5.92    Male     No   Sat  Dinner     3\n",
       "240       27.18  2.00  Female    Yes   Sat  Dinner     2\n",
       "241       22.67  2.00    Male    Yes   Sat  Dinner     2\n",
       "242       17.82  1.75    Male     No   Sat  Dinner     2\n",
       "243       18.78  3.00  Female     No  Thur  Dinner     2\n",
       "\n",
       "[244 rows x 7 columns]"
      ]
     },
     "execution_count": 132,
     "metadata": {},
     "output_type": "execute_result"
    }
   ],
   "source": [
    "df"
   ]
  },
  {
   "cell_type": "code",
   "execution_count": 134,
   "id": "346e1659",
   "metadata": {},
   "outputs": [
    {
     "name": "stdout",
     "output_type": "stream",
     "text": [
      "<class 'pandas.core.frame.DataFrame'>\n",
      "RangeIndex: 244 entries, 0 to 243\n",
      "Data columns (total 7 columns):\n",
      " #   Column      Non-Null Count  Dtype   \n",
      "---  ------      --------------  -----   \n",
      " 0   total_bill  244 non-null    float64 \n",
      " 1   tip         244 non-null    float64 \n",
      " 2   sex         244 non-null    category\n",
      " 3   smoker      244 non-null    category\n",
      " 4   day         244 non-null    category\n",
      " 5   time        244 non-null    category\n",
      " 6   size        244 non-null    int64   \n",
      "dtypes: category(4), float64(2), int64(1)\n",
      "memory usage: 7.4 KB\n"
     ]
    }
   ],
   "source": [
    "df.info()"
   ]
  },
  {
   "cell_type": "code",
   "execution_count": 154,
   "id": "5bdcba6f",
   "metadata": {},
   "outputs": [],
   "source": [
    "df1 = df.drop(['sex', 'smoker', 'day', 'time'], axis=1)"
   ]
  },
  {
   "cell_type": "code",
   "execution_count": 155,
   "id": "c6d97f21",
   "metadata": {},
   "outputs": [
    {
     "data": {
      "text/html": [
       "<div>\n",
       "<style scoped>\n",
       "    .dataframe tbody tr th:only-of-type {\n",
       "        vertical-align: middle;\n",
       "    }\n",
       "\n",
       "    .dataframe tbody tr th {\n",
       "        vertical-align: top;\n",
       "    }\n",
       "\n",
       "    .dataframe thead th {\n",
       "        text-align: right;\n",
       "    }\n",
       "</style>\n",
       "<table border=\"1\" class=\"dataframe\">\n",
       "  <thead>\n",
       "    <tr style=\"text-align: right;\">\n",
       "      <th></th>\n",
       "      <th>total_bill</th>\n",
       "      <th>tip</th>\n",
       "      <th>size</th>\n",
       "    </tr>\n",
       "  </thead>\n",
       "  <tbody>\n",
       "    <tr>\n",
       "      <th>total_bill</th>\n",
       "      <td>1.000000</td>\n",
       "      <td>0.675734</td>\n",
       "      <td>0.598315</td>\n",
       "    </tr>\n",
       "    <tr>\n",
       "      <th>tip</th>\n",
       "      <td>0.675734</td>\n",
       "      <td>1.000000</td>\n",
       "      <td>0.489299</td>\n",
       "    </tr>\n",
       "    <tr>\n",
       "      <th>size</th>\n",
       "      <td>0.598315</td>\n",
       "      <td>0.489299</td>\n",
       "      <td>1.000000</td>\n",
       "    </tr>\n",
       "  </tbody>\n",
       "</table>\n",
       "</div>"
      ],
      "text/plain": [
       "            total_bill       tip      size\n",
       "total_bill    1.000000  0.675734  0.598315\n",
       "tip           0.675734  1.000000  0.489299\n",
       "size          0.598315  0.489299  1.000000"
      ]
     },
     "execution_count": 155,
     "metadata": {},
     "output_type": "execute_result"
    }
   ],
   "source": [
    "df1.corr()"
   ]
  },
  {
   "cell_type": "raw",
   "id": "2a9af7b2",
   "metadata": {},
   "source": [
    "Correlation is a statistical measure that quantifies the strength and direction of a linear relationship between two variables. The correlation coefficient, denoted by (r), ranges from -1 to 1, where:\n",
    "\n",
    "(r = 1):  Perfect positive correlation\n",
    "(r = -1): Perfect negative correlation\n",
    "(r = 0):  No linear correlation\n",
    "\n",
    "The formula for calculating the correlation coefficient between two variables (X) and (Y) with (n) data points is given by:\n",
    "\n",
    "[r = frac{sum_{i=1}^{n} (X_i - bar{X})(Y_i - bar{Y})}{sqrt{sum_{i=1}^{n} (X_i - bar{X})^2 sum_{i=1}^{n} (Y_i - bar{Y})^2}}]\n",
    "\n",
    "Where:\n",
    "-(X_i) and (Y_i) are the individual data points of variables (X) and (Y) respectively.\n",
    "-(bar{X}) and (bar{Y}) are the means of variables (X) and (Y) respectively.\n",
    "\n",
    "The correlation coefficient reflects both the strength and direction of the relationship:\n",
    "\n",
    "- If (r > 0), there is a positive correlation (as one variable increases, the other tends to increase).\n",
    "- If (r < 0), there is a negative correlation (as one variable increases, the other tends to decrease).\n",
    "- The closer (|r|) is to 1, the stronger the correlation.\n",
    "\n",
    "It's important to note that correlation does not imply causation. Even if two variables are correlated, it does not necessarily mean that one variable causes the other to change. Correlation only measures the association between variables."
   ]
  },
  {
   "cell_type": "code",
   "execution_count": 146,
   "id": "b2ad71b0",
   "metadata": {},
   "outputs": [
    {
     "data": {
      "text/plain": [
       "total_bill    0\n",
       "tip           0\n",
       "sex           0\n",
       "smoker        0\n",
       "day           0\n",
       "time          0\n",
       "size          0\n",
       "dtype: int64"
      ]
     },
     "execution_count": 146,
     "metadata": {},
     "output_type": "execute_result"
    }
   ],
   "source": [
    "df.isnull().sum()"
   ]
  },
  {
   "cell_type": "code",
   "execution_count": 147,
   "id": "26bf7145",
   "metadata": {},
   "outputs": [
    {
     "data": {
      "text/html": [
       "<div>\n",
       "<style scoped>\n",
       "    .dataframe tbody tr th:only-of-type {\n",
       "        vertical-align: middle;\n",
       "    }\n",
       "\n",
       "    .dataframe tbody tr th {\n",
       "        vertical-align: top;\n",
       "    }\n",
       "\n",
       "    .dataframe thead th {\n",
       "        text-align: right;\n",
       "    }\n",
       "</style>\n",
       "<table border=\"1\" class=\"dataframe\">\n",
       "  <thead>\n",
       "    <tr style=\"text-align: right;\">\n",
       "      <th></th>\n",
       "      <th>total_bill</th>\n",
       "      <th>tip</th>\n",
       "      <th>sex</th>\n",
       "      <th>smoker</th>\n",
       "      <th>day</th>\n",
       "      <th>time</th>\n",
       "      <th>size</th>\n",
       "    </tr>\n",
       "  </thead>\n",
       "  <tbody>\n",
       "    <tr>\n",
       "      <th>0</th>\n",
       "      <td>16.99</td>\n",
       "      <td>1.01</td>\n",
       "      <td>Female</td>\n",
       "      <td>No</td>\n",
       "      <td>Sun</td>\n",
       "      <td>Dinner</td>\n",
       "      <td>2</td>\n",
       "    </tr>\n",
       "    <tr>\n",
       "      <th>1</th>\n",
       "      <td>10.34</td>\n",
       "      <td>1.66</td>\n",
       "      <td>Male</td>\n",
       "      <td>No</td>\n",
       "      <td>Sun</td>\n",
       "      <td>Dinner</td>\n",
       "      <td>3</td>\n",
       "    </tr>\n",
       "    <tr>\n",
       "      <th>2</th>\n",
       "      <td>21.01</td>\n",
       "      <td>3.50</td>\n",
       "      <td>Male</td>\n",
       "      <td>No</td>\n",
       "      <td>Sun</td>\n",
       "      <td>Dinner</td>\n",
       "      <td>3</td>\n",
       "    </tr>\n",
       "    <tr>\n",
       "      <th>3</th>\n",
       "      <td>23.68</td>\n",
       "      <td>3.31</td>\n",
       "      <td>Male</td>\n",
       "      <td>No</td>\n",
       "      <td>Sun</td>\n",
       "      <td>Dinner</td>\n",
       "      <td>2</td>\n",
       "    </tr>\n",
       "    <tr>\n",
       "      <th>4</th>\n",
       "      <td>24.59</td>\n",
       "      <td>3.61</td>\n",
       "      <td>Female</td>\n",
       "      <td>No</td>\n",
       "      <td>Sun</td>\n",
       "      <td>Dinner</td>\n",
       "      <td>4</td>\n",
       "    </tr>\n",
       "  </tbody>\n",
       "</table>\n",
       "</div>"
      ],
      "text/plain": [
       "   total_bill   tip     sex smoker  day    time  size\n",
       "0       16.99  1.01  Female     No  Sun  Dinner     2\n",
       "1       10.34  1.66    Male     No  Sun  Dinner     3\n",
       "2       21.01  3.50    Male     No  Sun  Dinner     3\n",
       "3       23.68  3.31    Male     No  Sun  Dinner     2\n",
       "4       24.59  3.61  Female     No  Sun  Dinner     4"
      ]
     },
     "execution_count": 147,
     "metadata": {},
     "output_type": "execute_result"
    }
   ],
   "source": [
    "df.head()"
   ]
  },
  {
   "cell_type": "code",
   "execution_count": 148,
   "id": "bc3a7bc8",
   "metadata": {},
   "outputs": [
    {
     "data": {
      "text/plain": [
       "<Axes: xlabel='tip', ylabel='size'>"
      ]
     },
     "execution_count": 148,
     "metadata": {},
     "output_type": "execute_result"
    },
    {
     "data": {
      "image/png": "[encoded data removed]",
      "text/plain": [
       "<Figure size 640x480 with 1 Axes>"
      ]
     },
     "metadata": {},
     "output_type": "display_data"
    }
   ],
   "source": [
    "sns.scatterplot(x=df['tip'], y=df['size'])"
   ]
  },
  {
   "cell_type": "raw",
   "id": "42bc2a90",
   "metadata": {},
   "source": [
    "A scatter plot is a simple and effective way to visualize the relationship between two variables.\n",
    "The X-axis represents the tip amount ('tip').\n",
    "The Y-axis represents the party size ('size').\n",
    "The title and axis labels are added for better interpretation. The scatterplot allows you to visually assess whether there's any relationship or pattern between the tip amount and the party size. Each point in the plot represents a different transaction or meal, and the overall pattern can provide insights into how these two variables are related."
   ]
  },
  {
   "cell_type": "code",
   "execution_count": 157,
   "id": "8cd56c23",
   "metadata": {},
   "outputs": [
    {
     "data": {
      "text/plain": [
       "<Axes: xlabel='tip', ylabel='total_bill'>"
      ]
     },
     "execution_count": 157,
     "metadata": {},
     "output_type": "execute_result"
    },
    {
     "data": {
      "image/png": "[encoded data removed]",
      "text/plain": [
       "<Figure size 640x480 with 1 Axes>"
      ]
     },
     "metadata": {},
     "output_type": "display_data"
    }
   ],
   "source": [
    "sns.scatterplot(x=df['tip'], y=df['total_bill'])"
   ]
  },
  {
   "cell_type": "code",
   "execution_count": 159,
   "id": "3fc3d57c",
   "metadata": {},
   "outputs": [
    {
     "data": {
      "text/html": [
       "<div>\n",
       "<style scoped>\n",
       "    .dataframe tbody tr th:only-of-type {\n",
       "        vertical-align: middle;\n",
       "    }\n",
       "\n",
       "    .dataframe tbody tr th {\n",
       "        vertical-align: top;\n",
       "    }\n",
       "\n",
       "    .dataframe thead th {\n",
       "        text-align: right;\n",
       "    }\n",
       "</style>\n",
       "<table border=\"1\" class=\"dataframe\">\n",
       "  <thead>\n",
       "    <tr style=\"text-align: right;\">\n",
       "      <th></th>\n",
       "      <th>total_bill</th>\n",
       "      <th>tip</th>\n",
       "      <th>size</th>\n",
       "    </tr>\n",
       "  </thead>\n",
       "  <tbody>\n",
       "    <tr>\n",
       "      <th>total_bill</th>\n",
       "      <td>79.252939</td>\n",
       "      <td>8.323502</td>\n",
       "      <td>5.065983</td>\n",
       "    </tr>\n",
       "    <tr>\n",
       "      <th>tip</th>\n",
       "      <td>8.323502</td>\n",
       "      <td>1.914455</td>\n",
       "      <td>0.643906</td>\n",
       "    </tr>\n",
       "    <tr>\n",
       "      <th>size</th>\n",
       "      <td>5.065983</td>\n",
       "      <td>0.643906</td>\n",
       "      <td>0.904591</td>\n",
       "    </tr>\n",
       "  </tbody>\n",
       "</table>\n",
       "</div>"
      ],
      "text/plain": [
       "            total_bill       tip      size\n",
       "total_bill   79.252939  8.323502  5.065983\n",
       "tip           8.323502  1.914455  0.643906\n",
       "size          5.065983  0.643906  0.904591"
      ]
     },
     "execution_count": 159,
     "metadata": {},
     "output_type": "execute_result"
    }
   ],
   "source": [
    "df1.cov()"
   ]
  },
  {
   "cell_type": "raw",
   "id": "6d3e206b",
   "metadata": {},
   "source": [
    "Covariance is a statistical measure indicating how two variables change together. \n",
    "It can be positive, negative, or zero.\n",
    "\n",
    "1. Positive Covariance: If one variable increases when the other increases, \n",
    "    it's positive covariance, suggesting they move in the same direction.\n",
    "\n",
    "2. Negative Covariance: If one variable decreases when the other increases, \n",
    "    it's negative covariance, indicating they move in opposite directions.\n",
    "\n",
    "3. Zero Covariance: If changes in one variable don't predict changes in the other, \n",
    "    it's zero covariance, meaning no clear linear relationship.\n",
    "\n",
    "Mathematically, Cov(X, Y) is the average of the product of the deviations of each variable from their means:\n",
    "\n",
    "Cov(X, Y) = Σ((Xᵢ - X̄)(Yᵢ - Ȳ))/N\n",
    "\n",
    "where:\n",
    "- Xᵢ and Yᵢ are individual data points,\n",
    "- X̄ and Ȳ are the means of X and Y,\n",
    "- N is the number of data points.\n",
    "\n",
    "Covariance is vital for understanding relationships between variables in data analysis and modeling."
   ]
  },
  {
   "cell_type": "raw",
   "id": "b7735674",
   "metadata": {},
   "source": [
    "A Probability Density Function (PDF) :\n",
    "A Probability Density Function (PDF) is a statistical concept used to describe the likelihood of a continuous random variable falling within a particular range. In simple terms, it provides a way to understand the distribution of values for a continuous variable."
   ]
  },
  {
   "cell_type": "code",
   "execution_count": 160,
   "id": "c36404d5",
   "metadata": {},
   "outputs": [
    {
     "data": {
      "text/plain": [
       "[23, 24, 32, 45, 12, 43, 67, 45, 32, 56, 32]"
      ]
     },
     "execution_count": 160,
     "metadata": {},
     "output_type": "execute_result"
    }
   ],
   "source": [
    "data"
   ]
  },
  {
   "cell_type": "code",
   "execution_count": 204,
   "id": "f5a9543d",
   "metadata": {},
   "outputs": [
    {
     "data": {
      "text/plain": [
       "[12, 23, 24, 32, 32, 32, 43, 45, 45, 56, 67]"
      ]
     },
     "execution_count": 204,
     "metadata": {},
     "output_type": "execute_result"
    }
   ],
   "source": [
    "data.sort()\n",
    "data"
   ]
  },
  {
   "cell_type": "code",
   "execution_count": 161,
   "id": "a9a261ad",
   "metadata": {},
   "outputs": [
    {
     "data": {
      "text/plain": [
       "<Axes: ylabel='Count'>"
      ]
     },
     "execution_count": 161,
     "metadata": {},
     "output_type": "execute_result"
    },
    {
     "data": {
      "image/png": "[encoded data removed]",
      "text/plain": [
       "<Figure size 640x480 with 1 Axes>"
      ]
     },
     "metadata": {},
     "output_type": "display_data"
    }
   ],
   "source": [
    "sns.histplot(data)"
   ]
  },
  {
   "cell_type": "code",
   "execution_count": 167,
   "id": "f352c2e5",
   "metadata": {},
   "outputs": [],
   "source": [
    "population=np.random.randint(10,20,50)"
   ]
  },
  {
   "cell_type": "code",
   "execution_count": 168,
   "id": "895fd5ff",
   "metadata": {},
   "outputs": [
    {
     "data": {
      "text/plain": [
       "array([19, 16, 10, 15, 19, 15, 19, 15, 17, 19, 18, 17, 10, 13, 10, 11, 17,\n",
       "       18, 11, 17, 17, 14, 18, 13, 15, 15, 13, 17, 16, 14, 15, 11, 10, 12,\n",
       "       17, 14, 11, 12, 15, 12, 17, 17, 19, 14, 10, 10, 16, 17, 14, 15])"
      ]
     },
     "execution_count": 168,
     "metadata": {},
     "output_type": "execute_result"
    }
   ],
   "source": [
    "population"
   ]
  },
  {
   "cell_type": "code",
   "execution_count": 169,
   "id": "1ea91002",
   "metadata": {},
   "outputs": [
    {
     "data": {
      "text/plain": [
       "14.72"
      ]
     },
     "execution_count": 169,
     "metadata": {},
     "output_type": "execute_result"
    }
   ],
   "source": [
    "np.mean(population)"
   ]
  },
  {
   "cell_type": "code",
   "execution_count": 171,
   "id": "21867faa",
   "metadata": {},
   "outputs": [],
   "source": [
    "data.sort()"
   ]
  },
  {
   "cell_type": "code",
   "execution_count": 172,
   "id": "d3900f96",
   "metadata": {},
   "outputs": [
    {
     "data": {
      "text/plain": [
       "[12, 23, 24, 32, 32, 32, 43, 45, 45, 56, 67]"
      ]
     },
     "execution_count": 172,
     "metadata": {},
     "output_type": "execute_result"
    }
   ],
   "source": [
    "data"
   ]
  },
  {
   "cell_type": "code",
   "execution_count": 175,
   "id": "e15b396f",
   "metadata": {},
   "outputs": [],
   "source": [
    "data_copy.append(289)\n"
   ]
  },
  {
   "cell_type": "code",
   "execution_count": 177,
   "id": "ff52f816",
   "metadata": {},
   "outputs": [
    {
     "data": {
      "text/plain": [
       "[12, 23, 24, 32, 32, 32, 43, 45, 45, 56, 67, 150, 179, 210, 289]"
      ]
     },
     "execution_count": 177,
     "metadata": {},
     "output_type": "execute_result"
    }
   ],
   "source": [
    "data_copy"
   ]
  },
  {
   "cell_type": "code",
   "execution_count": 180,
   "id": "ace9a11e",
   "metadata": {},
   "outputs": [
    {
     "data": {
      "text/plain": [
       "<Axes: ylabel='Count'>"
      ]
     },
     "execution_count": 180,
     "metadata": {},
     "output_type": "execute_result"
    },
    {
     "data": {
      "image/png": "[encoded data removed]",
      "text/plain": [
       "<Figure size 640x480 with 1 Axes>"
      ]
     },
     "metadata": {},
     "output_type": "display_data"
    }
   ],
   "source": [
    "sns.histplot(data)"
   ]
  },
  {
   "cell_type": "code",
   "execution_count": 181,
   "id": "6f4a8fea",
   "metadata": {},
   "outputs": [
    {
     "data": {
      "text/plain": [
       "<Axes: ylabel='Count'>"
      ]
     },
     "execution_count": 181,
     "metadata": {},
     "output_type": "execute_result"
    },
    {
     "data": {
      "image/png": "[encoded data removed]",
      "text/plain": [
       "<Figure size 640x480 with 1 Axes>"
      ]
     },
     "metadata": {},
     "output_type": "display_data"
    }
   ],
   "source": [
    "sns.histplot(data, kde=True)"
   ]
  },
  {
   "cell_type": "code",
   "execution_count": 182,
   "id": "de72a401",
   "metadata": {},
   "outputs": [
    {
     "data": {
      "text/plain": [
       "<Axes: ylabel='Count'>"
      ]
     },
     "execution_count": 182,
     "metadata": {},
     "output_type": "execute_result"
    },
    {
     "data": {
      "image/png": "[encoded data removed]",
      "text/plain": [
       "<Figure size 640x480 with 1 Axes>"
      ]
     },
     "metadata": {},
     "output_type": "display_data"
    }
   ],
   "source": [
    "sns.histplot(data_copy,kde =True)"
   ]
  },
  {
   "cell_type": "code",
   "execution_count": 183,
   "id": "9230cf7f",
   "metadata": {},
   "outputs": [],
   "source": [
    "data_copy2[0]=-10"
   ]
  },
  {
   "cell_type": "code",
   "execution_count": 184,
   "id": "1a24b89e",
   "metadata": {},
   "outputs": [],
   "source": [
    "data_copy2[1]=-75"
   ]
  },
  {
   "cell_type": "code",
   "execution_count": 185,
   "id": "b9c71886",
   "metadata": {},
   "outputs": [
    {
     "data": {
      "text/plain": [
       "[-10, -75, 32, 45, 12, 43, 67, 45, 32, 56, 32, 75]"
      ]
     },
     "execution_count": 185,
     "metadata": {},
     "output_type": "execute_result"
    }
   ],
   "source": [
    "data_copy2"
   ]
  },
  {
   "cell_type": "code",
   "execution_count": 186,
   "id": "1b8b3e03",
   "metadata": {},
   "outputs": [
    {
     "data": {
      "text/plain": [
       "<Axes: ylabel='Count'>"
      ]
     },
     "execution_count": 186,
     "metadata": {},
     "output_type": "execute_result"
    },
    {
     "data": {
      "image/png": "[encoded data removed]",
      "text/plain": [
       "<Figure size 640x480 with 1 Axes>"
      ]
     },
     "metadata": {},
     "output_type": "display_data"
    }
   ],
   "source": [
    "sns.histplot(data_copy2, kde=True)"
   ]
  },
  {
   "cell_type": "code",
   "execution_count": 188,
   "id": "69d8adf3",
   "metadata": {},
   "outputs": [
    {
     "data": {
      "text/html": [
       "<div>\n",
       "<style scoped>\n",
       "    .dataframe tbody tr th:only-of-type {\n",
       "        vertical-align: middle;\n",
       "    }\n",
       "\n",
       "    .dataframe tbody tr th {\n",
       "        vertical-align: top;\n",
       "    }\n",
       "\n",
       "    .dataframe thead th {\n",
       "        text-align: right;\n",
       "    }\n",
       "</style>\n",
       "<table border=\"1\" class=\"dataframe\">\n",
       "  <thead>\n",
       "    <tr style=\"text-align: right;\">\n",
       "      <th></th>\n",
       "      <th>Id</th>\n",
       "      <th>SepalLengthCm</th>\n",
       "      <th>SepalWidthCm</th>\n",
       "      <th>PetalLengthCm</th>\n",
       "      <th>PetalWidthCm</th>\n",
       "      <th>Species</th>\n",
       "    </tr>\n",
       "  </thead>\n",
       "  <tbody>\n",
       "    <tr>\n",
       "      <th>0</th>\n",
       "      <td>1</td>\n",
       "      <td>5.1</td>\n",
       "      <td>3.5</td>\n",
       "      <td>1.4</td>\n",
       "      <td>0.2</td>\n",
       "      <td>Iris-setosa</td>\n",
       "    </tr>\n",
       "    <tr>\n",
       "      <th>1</th>\n",
       "      <td>2</td>\n",
       "      <td>4.9</td>\n",
       "      <td>3.0</td>\n",
       "      <td>1.4</td>\n",
       "      <td>0.2</td>\n",
       "      <td>Iris-setosa</td>\n",
       "    </tr>\n",
       "    <tr>\n",
       "      <th>2</th>\n",
       "      <td>3</td>\n",
       "      <td>4.7</td>\n",
       "      <td>3.2</td>\n",
       "      <td>1.3</td>\n",
       "      <td>0.2</td>\n",
       "      <td>Iris-setosa</td>\n",
       "    </tr>\n",
       "    <tr>\n",
       "      <th>3</th>\n",
       "      <td>4</td>\n",
       "      <td>4.6</td>\n",
       "      <td>3.1</td>\n",
       "      <td>1.5</td>\n",
       "      <td>0.2</td>\n",
       "      <td>Iris-setosa</td>\n",
       "    </tr>\n",
       "    <tr>\n",
       "      <th>4</th>\n",
       "      <td>5</td>\n",
       "      <td>5.0</td>\n",
       "      <td>3.6</td>\n",
       "      <td>1.4</td>\n",
       "      <td>0.2</td>\n",
       "      <td>Iris-setosa</td>\n",
       "    </tr>\n",
       "  </tbody>\n",
       "</table>\n",
       "</div>"
      ],
      "text/plain": [
       "   Id  SepalLengthCm  SepalWidthCm  PetalLengthCm  PetalWidthCm      Species\n",
       "0   1            5.1           3.5            1.4           0.2  Iris-setosa\n",
       "1   2            4.9           3.0            1.4           0.2  Iris-setosa\n",
       "2   3            4.7           3.2            1.3           0.2  Iris-setosa\n",
       "3   4            4.6           3.1            1.5           0.2  Iris-setosa\n",
       "4   5            5.0           3.6            1.4           0.2  Iris-setosa"
      ]
     },
     "execution_count": 188,
     "metadata": {},
     "output_type": "execute_result"
    }
   ],
   "source": [
    "data2.head()"
   ]
  },
  {
   "cell_type": "code",
   "execution_count": 190,
   "id": "05d05f6d",
   "metadata": {},
   "outputs": [
    {
     "data": {
      "text/plain": [
       "<Axes: xlabel='SepalLengthCm', ylabel='Count'>"
      ]
     },
     "execution_count": 190,
     "metadata": {},
     "output_type": "execute_result"
    },
    {
     "data": {
      "image/png": "[encoded data removed]",
      "text/plain": [
       "<Figure size 640x480 with 1 Axes>"
      ]
     },
     "metadata": {},
     "output_type": "display_data"
    }
   ],
   "source": [
    "sns.histplot(data2['SepalLengthCm'],kde=True)"
   ]
  },
  {
   "cell_type": "code",
   "execution_count": 192,
   "id": "a446be08",
   "metadata": {},
   "outputs": [
    {
     "data": {
      "text/plain": [
       "<Axes: xlabel='SepalLengthCm', ylabel='Count'>"
      ]
     },
     "execution_count": 192,
     "metadata": {},
     "output_type": "execute_result"
    },
    {
     "data": {
      "image/png": "[encoded data removed]",
      "text/plain": [
       "<Figure size 640x480 with 1 Axes>"
      ]
     },
     "metadata": {},
     "output_type": "display_data"
    }
   ],
   "source": [
    "sns.histplot(np.log(data2['SepalLengthCm']),kde=True)"
   ]
  },
  {
   "cell_type": "code",
   "execution_count": 194,
   "id": "7ce02d3d",
   "metadata": {},
   "outputs": [
    {
     "data": {
      "text/plain": [
       "<Axes: xlabel='SepalWidthCm', ylabel='Count'>"
      ]
     },
     "execution_count": 194,
     "metadata": {},
     "output_type": "execute_result"
    },
    {
     "data": {
      "image/png": "[encoded data removed]",
      "text/plain": [
       "<Figure size 640x480 with 1 Axes>"
      ]
     },
     "metadata": {},
     "output_type": "display_data"
    }
   ],
   "source": [
    "sns.histplot(data2['SepalWidthCm'], kde=True)"
   ]
  },
  {
   "cell_type": "code",
   "execution_count": 195,
   "id": "13b19eb1",
   "metadata": {},
   "outputs": [
    {
     "data": {
      "text/plain": [
       "<Axes: xlabel='PetalLengthCm', ylabel='Count'>"
      ]
     },
     "execution_count": 195,
     "metadata": {},
     "output_type": "execute_result"
    },
    {
     "data": {
      "image/png": "[encoded data removed]",
      "text/plain": [
       "<Figure size 640x480 with 1 Axes>"
      ]
     },
     "metadata": {},
     "output_type": "display_data"
    }
   ],
   "source": [
    "sns.histplot(data2['PetalLengthCm'], kde =True)"
   ]
  },
  {
   "cell_type": "code",
   "execution_count": 196,
   "id": "0af7d1a0",
   "metadata": {},
   "outputs": [
    {
     "data": {
      "text/plain": [
       "<Axes: xlabel='PetalWidthCm', ylabel='Count'>"
      ]
     },
     "execution_count": 196,
     "metadata": {},
     "output_type": "execute_result"
    },
    {
     "data": {
      "image/png": "[encoded data removed]",
      "text/plain": [
       "<Figure size 640x480 with 1 Axes>"
      ]
     },
     "metadata": {},
     "output_type": "display_data"
    }
   ],
   "source": [
    "sns.histplot(data2['PetalWidthCm'], kde =True)"
   ]
  },
  {
   "cell_type": "code",
   "execution_count": 197,
   "id": "e1885455",
   "metadata": {},
   "outputs": [],
   "source": [
    "import numpy as np\n",
    "s=np.random.normal(0.5,0.2,1000)"
   ]
  },
  {
   "cell_type": "code",
   "execution_count": 198,
   "id": "28d1be5a",
   "metadata": {},
   "outputs": [
    {
     "data": {
      "text/plain": [
       "array([ 0.20801327,  0.43791079,  0.57198842,  0.6572034 ,  0.48263706,\n",
       "        0.55339841,  0.39794229,  0.49580678,  0.41409998,  0.62169261,\n",
       "       -0.18901293,  0.56130901,  0.66797386,  0.49597438,  0.33719017,\n",
       "        0.90079626,  0.49779108,  0.45754959,  0.45881978,  0.54141936,\n",
       "        0.51782017,  0.22571068,  0.46052637,  0.57865828,  0.65292812,\n",
       "        0.47151529,  0.72661494,  0.17313008,  0.53943529,  0.75532659,\n",
       "        0.65494251,  0.52385042,  0.43465401,  0.36166731,  0.44289628,\n",
       "        0.67022496,  0.32362438,  0.56592711,  0.54656418,  0.61986688,\n",
       "        0.27608122,  0.17278313,  1.14516539,  0.56526731,  0.1645421 ,\n",
       "        0.40863526,  0.5462605 ,  0.5977762 ,  0.35281633,  0.2390379 ,\n",
       "        0.46874344,  0.5214739 ,  0.38803719,  0.85913853,  0.50203843,\n",
       "        0.50574308,  0.75551096,  0.40892129,  0.71928965,  0.55765485,\n",
       "        0.47352867,  0.64733379,  0.45479009,  0.47452601,  0.44232795,\n",
       "        0.6030815 ,  0.75043813,  0.72746742,  0.38513985,  0.1966276 ,\n",
       "        0.4125257 ,  0.74139414,  0.524546  ,  0.51817267,  0.47407785,\n",
       "        0.83863792,  0.63316551,  0.29936962,  0.49446986,  0.65098328,\n",
       "        0.50132868,  0.51430594,  0.44615514,  0.72825076,  0.37570593,\n",
       "        0.04778359,  0.31318237,  0.32526997,  0.71630034,  0.50624577,\n",
       "        0.7819208 ,  0.56218692,  0.63793984,  0.55427195,  0.63079082,\n",
       "        0.37211391,  0.5764772 ,  0.51504297,  0.47043261,  0.81761315,\n",
       "        0.52140839,  0.69896403,  0.46214827,  0.66509134,  0.68650093,\n",
       "        0.51938449,  0.77079585,  0.76458311,  0.85195011,  0.12929228,\n",
       "        0.59916082,  0.57807643,  0.24953035,  0.80303796,  0.36079185,\n",
       "        0.69405811,  0.40906168,  0.40782375,  0.5143113 ,  0.51843571,\n",
       "        0.1815401 ,  0.77033119,  0.76845102,  0.22717438,  0.50928694,\n",
       "        0.4526203 ,  0.31053683,  0.28209414,  0.67576912,  0.38221445,\n",
       "        1.06060887,  0.70173793,  0.1475551 ,  0.24462408,  0.5413616 ,\n",
       "        0.47895937,  0.67023729,  0.62512654,  0.58721914,  0.25093221,\n",
       "        0.76527725,  0.09225191,  0.50844962,  0.19228806,  0.49472411,\n",
       "        0.58703826,  0.4045998 ,  0.17194744,  0.55263854,  0.46021382,\n",
       "        0.64330528,  0.59649659,  0.65996408,  0.40569144,  0.80673973,\n",
       "        0.4725369 ,  0.52471516,  0.41279985,  0.26916236,  0.6789845 ,\n",
       "        0.5711165 ,  0.33964007,  0.36896916,  0.43264443,  0.80029074,\n",
       "        0.39580795,  0.70066107,  0.77970776,  0.53458367,  0.23057214,\n",
       "        0.54749085,  0.5384376 ,  0.26621431,  0.39801748,  0.40812543,\n",
       "        0.64851772,  0.20320239,  0.5345468 ,  0.44164819,  0.71367632,\n",
       "        0.22775829,  0.58394679,  0.54927343,  0.68242462,  0.73298103,\n",
       "        0.66971491,  0.44217956,  0.69033036,  0.37082417,  0.80504149,\n",
       "        0.43458573,  0.60518827,  0.69827241,  0.42606523,  0.42824231,\n",
       "        0.28874625,  0.2158278 ,  0.456569  ,  0.59701177,  0.28818026,\n",
       "        0.78474583,  0.51882733,  0.45488487,  0.95053084,  0.44321642,\n",
       "        0.34000109,  0.24022596,  0.48265241,  0.31508427,  0.56681146,\n",
       "        0.33616836,  0.17784796,  0.74542289,  0.5247626 ,  0.36622758,\n",
       "        0.63475814,  0.58933755,  0.77822962,  0.65493249,  0.63832626,\n",
       "        0.7394745 ,  0.39586203,  0.51942738,  0.40724308,  0.81811651,\n",
       "        0.67489038,  0.66005285,  0.36099133,  0.53986462,  0.35654031,\n",
       "        0.59542615,  0.51713499,  0.55043181,  0.44093433,  0.74778983,\n",
       "        0.42477621,  0.14365159,  0.39908223,  0.56778058,  0.60419306,\n",
       "        0.70107185,  0.7344833 ,  0.44620098,  0.66590025,  0.10425804,\n",
       "        0.12791082,  0.67160766,  0.54007672,  0.8491843 ,  0.52092878,\n",
       "        0.48612144,  0.79206423,  0.45733028,  0.41387204,  0.29591487,\n",
       "        0.68486475,  0.58277584,  0.22196743,  0.49033607,  0.53787643,\n",
       "        0.57874856,  0.3375205 ,  0.6425778 ,  0.36683317,  0.53779576,\n",
       "        0.57811865,  0.43860353,  0.8850267 ,  0.49123412,  0.44775192,\n",
       "        0.35310769,  0.63649104,  0.51879573,  0.47722728,  0.47634596,\n",
       "        0.50895165,  0.51008489,  0.30759626,  0.48616759,  0.20334477,\n",
       "        0.53342433,  0.53481521,  0.2780446 ,  0.67023532,  0.35850207,\n",
       "        0.91917721,  0.57762021,  0.41256848,  0.36873169,  0.47262929,\n",
       "        0.7280338 ,  0.46328746,  0.50188257,  0.17958775,  0.74345069,\n",
       "        0.26872089,  0.12132493,  0.6947326 ,  0.67670548,  0.54331651,\n",
       "        0.66544909,  0.4016839 ,  0.8207142 ,  0.65117266,  0.65361155,\n",
       "        0.85883262,  0.6505419 ,  0.55186817,  0.1188271 ,  0.24387113,\n",
       "        0.61840944,  0.61813517,  0.51284536,  0.71517631,  0.40682985,\n",
       "        0.75603734,  0.77473574,  0.81723258,  0.82140203,  0.5370874 ,\n",
       "        0.53547389,  0.56654632,  0.35430109,  0.67634775,  0.42796701,\n",
       "        0.19835177,  0.39955995,  0.30882187,  0.32735744,  0.50364616,\n",
       "        0.26691258,  0.75565262,  0.4733129 ,  0.35170037,  0.5389491 ,\n",
       "        0.23334745,  0.47254666,  0.27145115,  0.41879316,  0.48013798,\n",
       "        0.16386609,  0.94676058,  0.41899124,  0.3436845 ,  0.61655072,\n",
       "        0.50817086,  0.35594711,  0.35621669,  0.49065982,  0.80586666,\n",
       "        0.44654584,  0.75096923,  0.48899863,  0.62513311,  0.41022491,\n",
       "        0.42423203,  0.81126682,  0.51300378,  0.14860074,  0.27953942,\n",
       "        0.90603654,  0.54853326,  0.6412086 ,  0.56854853,  0.03283948,\n",
       "        0.37850611,  0.77550071,  0.09167013,  0.73390495,  0.72218214,\n",
       "        0.09060204,  0.35819453,  0.41541253,  0.56772223,  0.64457339,\n",
       "        0.38046052,  0.83299917,  0.22358231,  0.40812703,  0.71060261,\n",
       "        0.49263704,  0.72331626,  0.67969316,  0.69184513, -0.13700336,\n",
       "        0.07120896,  0.47741207,  0.34645785,  0.73332056,  0.36759142,\n",
       "        0.29397272,  0.40098078,  0.36986329,  0.79027121,  0.52524855,\n",
       "        0.44895956,  0.52532562,  0.37170773,  0.11675426,  0.32559473,\n",
       "        0.76574668,  0.53176659,  0.35996744,  0.48552939,  0.24784552,\n",
       "        0.11731089,  0.68183972,  0.72676789,  0.34969919,  0.39492677,\n",
       "        0.26201483,  0.35112322,  0.15978193,  0.70279962,  0.46887144,\n",
       "        0.13307922,  0.44813429,  0.19110514,  0.19640596,  0.57562845,\n",
       "        0.50339749,  0.46063023,  0.64184488,  0.67352111,  0.20470636,\n",
       "        0.48732312,  0.13872775,  0.46929338,  0.65139545,  0.95758213,\n",
       "        0.62519572,  0.16780393,  0.76109083,  0.21731744,  0.45787055,\n",
       "        0.72761047,  0.6850561 ,  0.38125356,  0.64024348,  0.48877069,\n",
       "        0.44176633,  0.97305703,  0.71513783,  0.48993351,  0.51858598,\n",
       "        0.14424699,  0.60454884,  0.3974288 ,  0.55335179,  0.25854382,\n",
       "        0.57669777,  0.16387248,  0.66257439,  0.50481598,  0.3868338 ,\n",
       "        0.36948397,  0.77418988, -0.04833918,  0.64724395,  0.59414439,\n",
       "        0.58042828,  0.49267731,  0.44303341,  0.52591501,  0.2988797 ,\n",
       "        0.51297491,  0.77942327,  0.47998977,  0.86773757,  0.49971048,\n",
       "        0.40102514,  0.22418523,  0.55169596,  0.53804008,  0.46303992,\n",
       "        0.73916518,  0.32469364,  0.39212875, -0.00791722,  0.66412771,\n",
       "        0.67900823,  0.77181755,  0.66677932,  0.41228779,  0.88670913,\n",
       "        0.33610478,  0.19760048,  0.4536307 ,  0.69312539,  0.3913807 ,\n",
       "        0.42341445,  0.78114699,  0.4513304 ,  0.58950014,  0.56363228,\n",
       "        0.65316449,  0.29112759,  0.37308006,  0.18868049,  0.28520017,\n",
       "        0.66724818,  0.66849045,  0.52540267,  0.55542699,  0.27330209,\n",
       "        0.60373328,  0.67017324,  0.29919568,  0.23291541,  0.59714487,\n",
       "        0.40342676,  0.07704439,  0.47740798,  0.44823895,  0.05242498,\n",
       "        0.5985982 ,  0.62132356,  0.32217798,  0.45705411,  0.25504661,\n",
       "        0.28197109,  0.48722638,  0.81714799,  0.12328588,  0.80212265,\n",
       "        0.81715419,  0.85397708,  0.70063707,  0.40692852,  0.84260683,\n",
       "        0.75283548,  0.06351986,  0.1016397 ,  0.56505898,  0.71270232,\n",
       "        0.11574551,  0.39410684,  0.60786916,  0.4236133 ,  1.08896991,\n",
       "        0.6101828 ,  0.63033184,  0.51837873,  0.6257883 ,  0.61884877,\n",
       "        0.53932176,  0.53948489,  1.00858195,  0.7137581 ,  0.42517273,\n",
       "        0.22131041,  0.66138897,  0.48757938,  0.35946134,  0.21151202,\n",
       "        0.9953139 ,  0.42063804,  0.4741591 ,  0.36553899,  0.77978241,\n",
       "        0.3411665 ,  0.58714738,  0.43204237,  0.30874964,  0.28202094,\n",
       "        0.41258553,  0.62231219,  0.2644813 ,  0.24011259,  0.39704689,\n",
       "        0.35254184,  0.36962085,  0.63898262,  0.32748966,  0.60139688,\n",
       "        0.39650927,  0.51586151,  0.8991959 ,  0.6134987 ,  0.44708553,\n",
       "        0.45245921,  0.42426091,  0.52841488,  0.28089062,  0.29040586,\n",
       "        0.02700156,  0.46428883,  0.55295354,  0.38967019,  0.21854634,\n",
       "        0.49310333,  0.57040731, -0.00142014,  0.65576759,  0.22058343,\n",
       "        0.53948043,  0.78448489,  0.73470703,  0.58534157,  0.65111297,\n",
       "        0.38636184,  0.40882899,  0.81544622,  0.08012993,  0.76155677,\n",
       "        0.34631439,  0.50095598,  0.31512208,  0.35151854,  0.54904006,\n",
       "        0.48974291,  0.70011166,  0.52415197,  0.68369468,  0.45438727,\n",
       "        0.58292162,  0.47338554,  0.49154131,  0.70114843,  0.41789362,\n",
       "        0.50238495,  0.57757428,  0.73218979,  0.53363971,  0.42900279,\n",
       "        0.66377103,  0.67437642,  0.57034129,  0.57014851,  0.61978584,\n",
       "        0.41641823,  0.31480363,  0.33996018,  0.59005749,  0.75887992,\n",
       "        0.84031709,  1.03406026,  0.22993558,  0.46980692,  0.69895421,\n",
       "        0.33874942,  0.47707098,  0.34630025,  0.35977618,  0.24122138,\n",
       "        0.80642998,  0.62664691,  0.15392707,  0.63516104,  0.45625193,\n",
       "        0.20649019,  0.59317084,  0.31125857,  0.42618349,  0.57363643,\n",
       "        0.42283416,  0.49831976,  0.63019652,  0.20666586,  0.60804336,\n",
       "        0.46440014,  0.33445252,  0.47312886,  0.77080542,  0.55609201,\n",
       "        0.49016938,  0.40409658,  0.66435575,  0.36297832,  0.36401331,\n",
       "        0.58536455,  0.64821748,  0.54385847,  0.40605372,  0.17776825,\n",
       "        0.59374936,  0.88975663,  0.34532413,  0.47131221,  0.29537624,\n",
       "        0.51686268,  0.30238278,  0.68852037,  0.39151563,  0.29335183,\n",
       "        0.70666578,  0.42466207,  0.77334547,  0.1728716 ,  0.62441261,\n",
       "        0.74928051,  0.43002918,  0.45827268,  0.50417256,  0.60443586,\n",
       "        0.17662011,  0.70088969,  0.81589725,  0.2856833 ,  0.39570409,\n",
       "        0.55488426,  0.40669877,  0.63626659,  0.34024148,  0.50729694,\n",
       "        0.63227578,  0.16772863,  0.54834806,  0.77943181,  0.37399867,\n",
       "        0.43618998,  0.40146309,  0.02654024,  0.58514607,  0.25921384,\n",
       "        0.58867886,  0.59193257,  0.32226458,  0.30732858,  0.15709145,\n",
       "        0.53227064,  0.47284792,  0.63603997,  0.75953683,  0.45480864,\n",
       "        0.62152312,  0.76780462,  0.54370981,  0.74939495,  0.59896239,\n",
       "        0.57743276,  0.43416996,  0.78290661,  0.23583456,  0.28098043,\n",
       "        0.64017532,  0.51833676,  0.78941304,  0.20300653,  0.76193676,\n",
       "        0.66137636,  0.51043105,  0.56565077,  0.62724843,  0.39992842,\n",
       "        0.7446145 ,  0.47543778,  0.49445182,  0.46625791,  0.71117909,\n",
       "        0.76511936,  0.58732008,  0.55757543,  0.38710775,  0.38969089,\n",
       "        0.46179528,  0.16999421,  0.40632571,  0.53445438,  0.69060833,\n",
       "        0.61764358,  0.48147785,  0.45427125,  0.33599632,  0.42490471,\n",
       "        0.38785869,  0.71138158,  0.33107329,  0.14410909,  0.66145478,\n",
       "        0.41475851,  0.30407383,  0.40144801,  0.44942863,  0.35827707,\n",
       "        0.53933753,  0.49932037,  0.49317133,  0.53101069,  0.47684408,\n",
       "        0.64444417,  0.57747891,  0.72465718,  0.63054953, -0.13423961,\n",
       "        0.77937641,  0.57261012,  0.82901807,  0.65345924,  0.56198105,\n",
       "        0.64220909,  0.57625709,  0.40609172,  0.26712872,  0.42871357,\n",
       "        0.79402672,  0.61021095,  0.32867242,  0.54983521,  0.36993096,\n",
       "        0.30287144, -0.00451127,  0.67271695,  0.31881804,  0.34955168,\n",
       "        0.56236491,  0.6909669 ,  0.32220977,  0.28006654,  0.71825154,\n",
       "        0.56882452,  0.68750485,  0.28279206,  0.51983233,  0.70911977,\n",
       "        0.42569683,  0.38417542,  0.76046983,  0.38602871,  0.39576011,\n",
       "        0.94632263,  0.86406822,  0.67738228,  0.86621254,  0.47209784,\n",
       "        0.63120438,  0.22692756,  0.25705739,  0.75145603,  0.19602668,\n",
       "        0.51464244,  0.40184525,  0.76875652,  0.2108453 ,  0.60637961,\n",
       "        0.34501196,  0.51334126,  0.56958378,  0.71598408,  0.56129352,\n",
       "        0.61664618,  0.33212669,  0.61652982,  0.19661054,  0.38410113,\n",
       "        1.04868065,  0.84635747,  0.83940529,  0.63387856,  0.55593614,\n",
       "        0.41824889,  0.46470117,  0.67483846,  0.44301371,  0.15464644,\n",
       "        0.17334333,  0.54871333,  0.49535766,  0.50164943, -0.15022853,\n",
       "        0.43923336,  0.28954345,  0.71203565,  0.78055966,  0.44538792,\n",
       "        0.45640796,  0.58611541,  0.29141594,  0.55044795,  0.53921158,\n",
       "        0.35392317,  0.24968454,  0.42144327,  0.21190433,  0.37629768,\n",
       "        0.57360215,  0.53166002,  0.55178601,  0.39787182,  0.53638354,\n",
       "        0.5641673 ,  0.69362424,  0.33642392,  0.26367154,  0.52954115,\n",
       "        0.62962723,  0.68645463,  0.53454166,  0.56983145,  0.16973418,\n",
       "        0.49846888,  0.66168837,  0.38324431,  0.28180648,  0.60151874,\n",
       "        0.39362364,  0.34829467,  0.26484252,  0.4134789 ,  0.51962802,\n",
       "        0.46527059,  0.67644059,  0.74423277,  0.38605427,  0.4376686 ,\n",
       "        0.60882157,  0.90866285,  0.59185364,  0.43765563,  0.56989356,\n",
       "        0.17440352,  0.50679568,  0.4749281 ,  0.27352746,  0.2203119 ,\n",
       "        0.24331178,  0.5730839 ,  0.56402792,  0.5080324 ,  0.64139054,\n",
       "        0.55903378,  0.49041024,  0.72890603,  0.21374414,  0.34012592,\n",
       "        0.87499909,  0.63879694,  0.36437099,  0.5645877 ,  0.36888481,\n",
       "        0.79806529,  0.56966037,  0.42579964,  0.81335872,  0.50949562,\n",
       "        0.34383038,  0.23564469,  0.59609914,  0.36574125,  0.53754571,\n",
       "        0.47025228,  0.93628929,  0.33923236,  0.25069837,  1.13068647,\n",
       "        0.5654057 ,  0.31448621,  0.18217952,  0.56472137,  0.53861726,\n",
       "        0.50963332,  0.45982977,  0.2024483 ,  0.5576292 ,  0.46976609,\n",
       "        0.41995062,  0.77143834,  0.36955409,  0.27299953,  0.46494334,\n",
       "        0.8641468 ,  0.26149652,  0.48268385,  0.73922988,  0.58682194,\n",
       "        0.46993843,  0.62146068,  0.46911904,  0.22276418,  0.46360456,\n",
       "        0.12296719,  0.49448889,  1.02892155,  0.54594846,  0.72550953,\n",
       "        0.47491816,  0.24793068,  0.92474903,  0.68211071,  0.5829997 ,\n",
       "        0.34400613,  0.46739593,  0.98628518,  0.42920865,  0.85967733,\n",
       "        0.27394642,  0.50271244,  0.75899107,  0.41979061,  0.89424619,\n",
       "        0.53472519,  0.43869948,  0.47723473,  0.09013514,  0.61185599,\n",
       "        0.94016774,  0.42106308,  0.45638689,  0.29401335,  0.39901291])"
      ]
     },
     "execution_count": 198,
     "metadata": {},
     "output_type": "execute_result"
    }
   ],
   "source": [
    "s"
   ]
  },
  {
   "cell_type": "raw",
   "id": "d8f69860",
   "metadata": {},
   "source": [
    "np: This typically stands for NumPy, a powerful numerical computing library in Python.\n",
    "\n",
    "np.random: This refers to the sub-module within NumPy that deals with random number generation.\n",
    "\n",
    "normal: This is a method in the np.random module used to generate random numbers from a normal (Gaussian) distribution.\n",
    "\n",
    "(0.5, 0.2, 1000): These are the parameters passed to the normal method:\n",
    "\n",
    "0.5: Mean (center) of the normal distribution.\n",
    "0.2: Standard deviation, which controls the spread or dispersion of the distribution.\n",
    "1000: Number of random samples to generate.\n",
    "s: This is a variable to which the generated random numbers are assigned.\n",
    "\n",
    "So, the line of code generates an array s containing 1000 random numbers sampled from a normal distribution with a mean of 0.5 and a standard deviation of 0.2, using NumPy's random module."
   ]
  },
  {
   "cell_type": "code",
   "execution_count": 199,
   "id": "c166f0c4",
   "metadata": {},
   "outputs": [
    {
     "data": {
      "text/plain": [
       "<Axes: ylabel='Count'>"
      ]
     },
     "execution_count": 199,
     "metadata": {},
     "output_type": "execute_result"
    },
    {
     "data": {
      "image/png": "[encoded data removed]",
      "text/plain": [
       "<Figure size 640x480 with 1 Axes>"
      ]
     },
     "metadata": {},
     "output_type": "display_data"
    }
   ],
   "source": [
    "sns.histplot(s,kde =True)"
   ]
  },
  {
   "cell_type": "code",
   "execution_count": null,
   "id": "6358d7a9",
   "metadata": {},
   "outputs": [],
   "source": []
  }
 ],
 "metadata": {
  "kernelspec": {
   "display_name": "Python 3 (ipykernel)",
   "language": "python",
   "name": "python3"
  },
  "language_info": {
   "codemirror_mode": {
    "name": "ipython",
    "version": 3
   },
   "file_extension": ".py",
   "mimetype": "text/x-python",
   "name": "python",
   "nbconvert_exporter": "python",
   "pygments_lexer": "ipython3",
   "version": "3.11.5"
  }
 },
 "nbformat": 4,
 "nbformat_minor": 5
}
